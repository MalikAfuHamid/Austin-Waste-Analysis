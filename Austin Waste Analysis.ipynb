{
 "cells": [
  {
   "cell_type": "code",
   "execution_count": 1,
   "id": "baf0ac5b",
   "metadata": {},
   "outputs": [],
   "source": [
    "import pandas as pd\n",
    "import numpy as np\n",
    "import matplotlib.pyplot as plt\n",
    "import seaborn as sns\n",
    "from scipy.stats import ttest_1samp\n",
    "from scipy import stats"
   ]
  },
  {
   "cell_type": "markdown",
   "id": "1a781966",
   "metadata": {},
   "source": [
    "# Problem Context\n",
    "Pada project kali ini saya ingin menganalisa sistem pembuatan sampah di Austin Smart City.\n",
    "Dataset yang saya gunakan diambil dari `Google Cloud Platform.`"
   ]
  },
  {
   "cell_type": "markdown",
   "id": "38a82571",
   "metadata": {},
   "source": [
    "# query yang telah dibuat di Google Cloud Platform\n",
    "```\n",
    "SELECT load_time, load_type, load_weight, dropoff_site FROM `bigquery-public-data.austin_waste.waste_and_diversion`\n",
    "LIMIT 150000;\n",
    "```"
   ]
  },
  {
   "cell_type": "markdown",
   "id": "04126a96",
   "metadata": {},
   "source": [
    "# Import Dataset"
   ]
  },
  {
   "cell_type": "code",
   "execution_count": 2,
   "id": "28fe49ee",
   "metadata": {},
   "outputs": [
    {
     "data": {
      "text/html": [
       "<div>\n",
       "<style scoped>\n",
       "    .dataframe tbody tr th:only-of-type {\n",
       "        vertical-align: middle;\n",
       "    }\n",
       "\n",
       "    .dataframe tbody tr th {\n",
       "        vertical-align: top;\n",
       "    }\n",
       "\n",
       "    .dataframe thead th {\n",
       "        text-align: right;\n",
       "    }\n",
       "</style>\n",
       "<table border=\"1\" class=\"dataframe\">\n",
       "  <thead>\n",
       "    <tr style=\"text-align: right;\">\n",
       "      <th></th>\n",
       "      <th>load_time</th>\n",
       "      <th>load_type</th>\n",
       "      <th>load_weight</th>\n",
       "      <th>dropoff_site</th>\n",
       "    </tr>\n",
       "  </thead>\n",
       "  <tbody>\n",
       "    <tr>\n",
       "      <th>0</th>\n",
       "      <td>2009-08-07 11:51:00+00:00</td>\n",
       "      <td>RECYCLING - SINGLE STREAM</td>\n",
       "      <td>4400.0</td>\n",
       "      <td>MRF</td>\n",
       "    </tr>\n",
       "    <tr>\n",
       "      <th>1</th>\n",
       "      <td>2008-04-11 12:31:00+00:00</td>\n",
       "      <td>RECYCLING - PAPER</td>\n",
       "      <td>1920.0</td>\n",
       "      <td>MRF</td>\n",
       "    </tr>\n",
       "    <tr>\n",
       "      <th>2</th>\n",
       "      <td>2009-01-16 12:58:00+00:00</td>\n",
       "      <td>RECYCLING - SINGLE STREAM</td>\n",
       "      <td>4140.0</td>\n",
       "      <td>MRF</td>\n",
       "    </tr>\n",
       "    <tr>\n",
       "      <th>3</th>\n",
       "      <td>2009-07-10 11:21:00+00:00</td>\n",
       "      <td>RECYCLING - SINGLE STREAM</td>\n",
       "      <td>4020.0</td>\n",
       "      <td>MRF</td>\n",
       "    </tr>\n",
       "    <tr>\n",
       "      <th>4</th>\n",
       "      <td>2006-02-03 12:36:00+00:00</td>\n",
       "      <td>RECYCLING - COMINGLE</td>\n",
       "      <td>1700.0</td>\n",
       "      <td>MRF</td>\n",
       "    </tr>\n",
       "    <tr>\n",
       "      <th>...</th>\n",
       "      <td>...</td>\n",
       "      <td>...</td>\n",
       "      <td>...</td>\n",
       "      <td>...</td>\n",
       "    </tr>\n",
       "    <tr>\n",
       "      <th>149995</th>\n",
       "      <td>2011-08-17 12:45:00+00:00</td>\n",
       "      <td>RECYCLING - SINGLE STREAM</td>\n",
       "      <td>13380.0</td>\n",
       "      <td>TDS - MRF</td>\n",
       "    </tr>\n",
       "    <tr>\n",
       "      <th>149996</th>\n",
       "      <td>2011-06-08 10:59:00+00:00</td>\n",
       "      <td>RECYCLING - SINGLE STREAM</td>\n",
       "      <td>14080.0</td>\n",
       "      <td>TDS - MRF</td>\n",
       "    </tr>\n",
       "    <tr>\n",
       "      <th>149997</th>\n",
       "      <td>2012-04-11 12:09:00+00:00</td>\n",
       "      <td>RECYCLING - SINGLE STREAM</td>\n",
       "      <td>14260.0</td>\n",
       "      <td>TDS - MRF</td>\n",
       "    </tr>\n",
       "    <tr>\n",
       "      <th>149998</th>\n",
       "      <td>2011-08-31 02:50:00+00:00</td>\n",
       "      <td>RECYCLING - SINGLE STREAM</td>\n",
       "      <td>4100.0</td>\n",
       "      <td>TDS - MRF</td>\n",
       "    </tr>\n",
       "    <tr>\n",
       "      <th>149999</th>\n",
       "      <td>2011-07-20 11:21:00+00:00</td>\n",
       "      <td>RECYCLING - SINGLE STREAM</td>\n",
       "      <td>6220.0</td>\n",
       "      <td>TDS - MRF</td>\n",
       "    </tr>\n",
       "  </tbody>\n",
       "</table>\n",
       "<p>150000 rows × 4 columns</p>\n",
       "</div>"
      ],
      "text/plain": [
       "                       load_time                  load_type  load_weight  \\\n",
       "0      2009-08-07 11:51:00+00:00  RECYCLING - SINGLE STREAM       4400.0   \n",
       "1      2008-04-11 12:31:00+00:00          RECYCLING - PAPER       1920.0   \n",
       "2      2009-01-16 12:58:00+00:00  RECYCLING - SINGLE STREAM       4140.0   \n",
       "3      2009-07-10 11:21:00+00:00  RECYCLING - SINGLE STREAM       4020.0   \n",
       "4      2006-02-03 12:36:00+00:00       RECYCLING - COMINGLE       1700.0   \n",
       "...                          ...                        ...          ...   \n",
       "149995 2011-08-17 12:45:00+00:00  RECYCLING - SINGLE STREAM      13380.0   \n",
       "149996 2011-06-08 10:59:00+00:00  RECYCLING - SINGLE STREAM      14080.0   \n",
       "149997 2012-04-11 12:09:00+00:00  RECYCLING - SINGLE STREAM      14260.0   \n",
       "149998 2011-08-31 02:50:00+00:00  RECYCLING - SINGLE STREAM       4100.0   \n",
       "149999 2011-07-20 11:21:00+00:00  RECYCLING - SINGLE STREAM       6220.0   \n",
       "\n",
       "       dropoff_site  \n",
       "0               MRF  \n",
       "1               MRF  \n",
       "2               MRF  \n",
       "3               MRF  \n",
       "4               MRF  \n",
       "...             ...  \n",
       "149995    TDS - MRF  \n",
       "149996    TDS - MRF  \n",
       "149997    TDS - MRF  \n",
       "149998    TDS - MRF  \n",
       "149999    TDS - MRF  \n",
       "\n",
       "[150000 rows x 4 columns]"
      ]
     },
     "execution_count": 2,
     "metadata": {},
     "output_type": "execute_result"
    }
   ],
   "source": [
    "df = pd.read_csv('austin_waste.csv', parse_dates=[\"load_time\"])\n",
    "df"
   ]
  },
  {
   "cell_type": "markdown",
   "id": "4cf878f7",
   "metadata": {},
   "source": [
    "## Menampilkan head"
   ]
  },
  {
   "cell_type": "code",
   "execution_count": 3,
   "id": "fd88f498",
   "metadata": {},
   "outputs": [
    {
     "data": {
      "text/html": [
       "<div>\n",
       "<style scoped>\n",
       "    .dataframe tbody tr th:only-of-type {\n",
       "        vertical-align: middle;\n",
       "    }\n",
       "\n",
       "    .dataframe tbody tr th {\n",
       "        vertical-align: top;\n",
       "    }\n",
       "\n",
       "    .dataframe thead th {\n",
       "        text-align: right;\n",
       "    }\n",
       "</style>\n",
       "<table border=\"1\" class=\"dataframe\">\n",
       "  <thead>\n",
       "    <tr style=\"text-align: right;\">\n",
       "      <th></th>\n",
       "      <th>load_time</th>\n",
       "      <th>load_type</th>\n",
       "      <th>load_weight</th>\n",
       "      <th>dropoff_site</th>\n",
       "    </tr>\n",
       "  </thead>\n",
       "  <tbody>\n",
       "    <tr>\n",
       "      <th>0</th>\n",
       "      <td>2009-08-07 11:51:00+00:00</td>\n",
       "      <td>RECYCLING - SINGLE STREAM</td>\n",
       "      <td>4400.0</td>\n",
       "      <td>MRF</td>\n",
       "    </tr>\n",
       "    <tr>\n",
       "      <th>1</th>\n",
       "      <td>2008-04-11 12:31:00+00:00</td>\n",
       "      <td>RECYCLING - PAPER</td>\n",
       "      <td>1920.0</td>\n",
       "      <td>MRF</td>\n",
       "    </tr>\n",
       "    <tr>\n",
       "      <th>2</th>\n",
       "      <td>2009-01-16 12:58:00+00:00</td>\n",
       "      <td>RECYCLING - SINGLE STREAM</td>\n",
       "      <td>4140.0</td>\n",
       "      <td>MRF</td>\n",
       "    </tr>\n",
       "    <tr>\n",
       "      <th>3</th>\n",
       "      <td>2009-07-10 11:21:00+00:00</td>\n",
       "      <td>RECYCLING - SINGLE STREAM</td>\n",
       "      <td>4020.0</td>\n",
       "      <td>MRF</td>\n",
       "    </tr>\n",
       "    <tr>\n",
       "      <th>4</th>\n",
       "      <td>2006-02-03 12:36:00+00:00</td>\n",
       "      <td>RECYCLING - COMINGLE</td>\n",
       "      <td>1700.0</td>\n",
       "      <td>MRF</td>\n",
       "    </tr>\n",
       "  </tbody>\n",
       "</table>\n",
       "</div>"
      ],
      "text/plain": [
       "                  load_time                  load_type  load_weight  \\\n",
       "0 2009-08-07 11:51:00+00:00  RECYCLING - SINGLE STREAM       4400.0   \n",
       "1 2008-04-11 12:31:00+00:00          RECYCLING - PAPER       1920.0   \n",
       "2 2009-01-16 12:58:00+00:00  RECYCLING - SINGLE STREAM       4140.0   \n",
       "3 2009-07-10 11:21:00+00:00  RECYCLING - SINGLE STREAM       4020.0   \n",
       "4 2006-02-03 12:36:00+00:00       RECYCLING - COMINGLE       1700.0   \n",
       "\n",
       "  dropoff_site  \n",
       "0          MRF  \n",
       "1          MRF  \n",
       "2          MRF  \n",
       "3          MRF  \n",
       "4          MRF  "
      ]
     },
     "execution_count": 3,
     "metadata": {},
     "output_type": "execute_result"
    }
   ],
   "source": [
    "df.head()"
   ]
  },
  {
   "cell_type": "markdown",
   "id": "582eec20",
   "metadata": {},
   "source": [
    "`Pada tahap awal ini saya menampilkan 5 baris pertama pada dataset.`"
   ]
  },
  {
   "cell_type": "markdown",
   "id": "24276617",
   "metadata": {},
   "source": [
    "## Menampilkan tail"
   ]
  },
  {
   "cell_type": "code",
   "execution_count": 4,
   "id": "beafea83",
   "metadata": {},
   "outputs": [
    {
     "data": {
      "text/html": [
       "<div>\n",
       "<style scoped>\n",
       "    .dataframe tbody tr th:only-of-type {\n",
       "        vertical-align: middle;\n",
       "    }\n",
       "\n",
       "    .dataframe tbody tr th {\n",
       "        vertical-align: top;\n",
       "    }\n",
       "\n",
       "    .dataframe thead th {\n",
       "        text-align: right;\n",
       "    }\n",
       "</style>\n",
       "<table border=\"1\" class=\"dataframe\">\n",
       "  <thead>\n",
       "    <tr style=\"text-align: right;\">\n",
       "      <th></th>\n",
       "      <th>load_time</th>\n",
       "      <th>load_type</th>\n",
       "      <th>load_weight</th>\n",
       "      <th>dropoff_site</th>\n",
       "    </tr>\n",
       "  </thead>\n",
       "  <tbody>\n",
       "    <tr>\n",
       "      <th>149995</th>\n",
       "      <td>2011-08-17 12:45:00+00:00</td>\n",
       "      <td>RECYCLING - SINGLE STREAM</td>\n",
       "      <td>13380.0</td>\n",
       "      <td>TDS - MRF</td>\n",
       "    </tr>\n",
       "    <tr>\n",
       "      <th>149996</th>\n",
       "      <td>2011-06-08 10:59:00+00:00</td>\n",
       "      <td>RECYCLING - SINGLE STREAM</td>\n",
       "      <td>14080.0</td>\n",
       "      <td>TDS - MRF</td>\n",
       "    </tr>\n",
       "    <tr>\n",
       "      <th>149997</th>\n",
       "      <td>2012-04-11 12:09:00+00:00</td>\n",
       "      <td>RECYCLING - SINGLE STREAM</td>\n",
       "      <td>14260.0</td>\n",
       "      <td>TDS - MRF</td>\n",
       "    </tr>\n",
       "    <tr>\n",
       "      <th>149998</th>\n",
       "      <td>2011-08-31 02:50:00+00:00</td>\n",
       "      <td>RECYCLING - SINGLE STREAM</td>\n",
       "      <td>4100.0</td>\n",
       "      <td>TDS - MRF</td>\n",
       "    </tr>\n",
       "    <tr>\n",
       "      <th>149999</th>\n",
       "      <td>2011-07-20 11:21:00+00:00</td>\n",
       "      <td>RECYCLING - SINGLE STREAM</td>\n",
       "      <td>6220.0</td>\n",
       "      <td>TDS - MRF</td>\n",
       "    </tr>\n",
       "  </tbody>\n",
       "</table>\n",
       "</div>"
      ],
      "text/plain": [
       "                       load_time                  load_type  load_weight  \\\n",
       "149995 2011-08-17 12:45:00+00:00  RECYCLING - SINGLE STREAM      13380.0   \n",
       "149996 2011-06-08 10:59:00+00:00  RECYCLING - SINGLE STREAM      14080.0   \n",
       "149997 2012-04-11 12:09:00+00:00  RECYCLING - SINGLE STREAM      14260.0   \n",
       "149998 2011-08-31 02:50:00+00:00  RECYCLING - SINGLE STREAM       4100.0   \n",
       "149999 2011-07-20 11:21:00+00:00  RECYCLING - SINGLE STREAM       6220.0   \n",
       "\n",
       "       dropoff_site  \n",
       "149995    TDS - MRF  \n",
       "149996    TDS - MRF  \n",
       "149997    TDS - MRF  \n",
       "149998    TDS - MRF  \n",
       "149999    TDS - MRF  "
      ]
     },
     "execution_count": 4,
     "metadata": {},
     "output_type": "execute_result"
    }
   ],
   "source": [
    "df.tail()"
   ]
  },
  {
   "cell_type": "markdown",
   "id": "80ab325a",
   "metadata": {},
   "source": [
    "`Pada tahap awal ini saya menampilkan 5 baris paling bawah pada dataset.`"
   ]
  },
  {
   "cell_type": "markdown",
   "id": "96e04a6d",
   "metadata": {},
   "source": [
    "## Cleaning Dataset"
   ]
  },
  {
   "cell_type": "code",
   "execution_count": 5,
   "id": "07767c5d",
   "metadata": {},
   "outputs": [
    {
     "data": {
      "text/html": [
       "<div>\n",
       "<style scoped>\n",
       "    .dataframe tbody tr th:only-of-type {\n",
       "        vertical-align: middle;\n",
       "    }\n",
       "\n",
       "    .dataframe tbody tr th {\n",
       "        vertical-align: top;\n",
       "    }\n",
       "\n",
       "    .dataframe thead th {\n",
       "        text-align: right;\n",
       "    }\n",
       "</style>\n",
       "<table border=\"1\" class=\"dataframe\">\n",
       "  <thead>\n",
       "    <tr style=\"text-align: right;\">\n",
       "      <th></th>\n",
       "      <th>load_time</th>\n",
       "      <th>load_type</th>\n",
       "      <th>load_weight</th>\n",
       "      <th>dropoff_site</th>\n",
       "    </tr>\n",
       "  </thead>\n",
       "  <tbody>\n",
       "    <tr>\n",
       "      <th>0</th>\n",
       "      <td>2009-08-07 11:51:00+00:00</td>\n",
       "      <td>RECYCLING - SINGLE STREAM</td>\n",
       "      <td>4400.0</td>\n",
       "      <td>MRF</td>\n",
       "    </tr>\n",
       "    <tr>\n",
       "      <th>1</th>\n",
       "      <td>2008-04-11 12:31:00+00:00</td>\n",
       "      <td>RECYCLING - PAPER</td>\n",
       "      <td>1920.0</td>\n",
       "      <td>MRF</td>\n",
       "    </tr>\n",
       "    <tr>\n",
       "      <th>2</th>\n",
       "      <td>2009-01-16 12:58:00+00:00</td>\n",
       "      <td>RECYCLING - SINGLE STREAM</td>\n",
       "      <td>4140.0</td>\n",
       "      <td>MRF</td>\n",
       "    </tr>\n",
       "    <tr>\n",
       "      <th>3</th>\n",
       "      <td>2009-07-10 11:21:00+00:00</td>\n",
       "      <td>RECYCLING - SINGLE STREAM</td>\n",
       "      <td>4020.0</td>\n",
       "      <td>MRF</td>\n",
       "    </tr>\n",
       "    <tr>\n",
       "      <th>4</th>\n",
       "      <td>2006-02-03 12:36:00+00:00</td>\n",
       "      <td>RECYCLING - COMINGLE</td>\n",
       "      <td>1700.0</td>\n",
       "      <td>MRF</td>\n",
       "    </tr>\n",
       "  </tbody>\n",
       "</table>\n",
       "</div>"
      ],
      "text/plain": [
       "                  load_time                  load_type  load_weight  \\\n",
       "0 2009-08-07 11:51:00+00:00  RECYCLING - SINGLE STREAM       4400.0   \n",
       "1 2008-04-11 12:31:00+00:00          RECYCLING - PAPER       1920.0   \n",
       "2 2009-01-16 12:58:00+00:00  RECYCLING - SINGLE STREAM       4140.0   \n",
       "3 2009-07-10 11:21:00+00:00  RECYCLING - SINGLE STREAM       4020.0   \n",
       "4 2006-02-03 12:36:00+00:00       RECYCLING - COMINGLE       1700.0   \n",
       "\n",
       "  dropoff_site  \n",
       "0          MRF  \n",
       "1          MRF  \n",
       "2          MRF  \n",
       "3          MRF  \n",
       "4          MRF  "
      ]
     },
     "execution_count": 5,
     "metadata": {},
     "output_type": "execute_result"
    }
   ],
   "source": [
    "df.head()"
   ]
  },
  {
   "cell_type": "markdown",
   "id": "b0466392",
   "metadata": {},
   "source": [
    "`Pada tahap awal ini saya menampilkan 5 baris pertama pada dataset agar dapat melihat permasalah yang ada di dalam dataset secara lebih luas.`"
   ]
  },
  {
   "cell_type": "code",
   "execution_count": 6,
   "id": "be53a360",
   "metadata": {},
   "outputs": [
    {
     "name": "stdout",
     "output_type": "stream",
     "text": [
      "<class 'pandas.core.frame.DataFrame'>\n",
      "RangeIndex: 150000 entries, 0 to 149999\n",
      "Data columns (total 4 columns):\n",
      " #   Column        Non-Null Count   Dtype              \n",
      "---  ------        --------------   -----              \n",
      " 0   load_time     150000 non-null  datetime64[ns, UTC]\n",
      " 1   load_type     150000 non-null  object             \n",
      " 2   load_weight   144934 non-null  float64            \n",
      " 3   dropoff_site  150000 non-null  object             \n",
      "dtypes: datetime64[ns, UTC](1), float64(1), object(2)\n",
      "memory usage: 4.6+ MB\n"
     ]
    }
   ],
   "source": [
    "df.info()"
   ]
  },
  {
   "cell_type": "markdown",
   "id": "7a9e14bf",
   "metadata": {},
   "source": [
    "`Di sini saya menampilkan informasi apa saja yang terdapat di dalam datasetnya.`"
   ]
  },
  {
   "cell_type": "markdown",
   "id": "6fdc97cb",
   "metadata": {},
   "source": [
    "## Melihat dan menghandling missing value pada masing-masing site"
   ]
  },
  {
   "cell_type": "code",
   "execution_count": 7,
   "id": "09c05915",
   "metadata": {},
   "outputs": [
    {
     "data": {
      "text/plain": [
       "array(['MRF', 'ELMONT', 'KRAMER', 'WILCAB', 'ZILKER', 'CLARKSON',\n",
       "       'PARK BEND', 'TDS - MRF'], dtype=object)"
      ]
     },
     "execution_count": 7,
     "metadata": {},
     "output_type": "execute_result"
    }
   ],
   "source": [
    "df.dropoff_site.unique()"
   ]
  },
  {
   "cell_type": "markdown",
   "id": "cc9c276e",
   "metadata": {},
   "source": [
    "`Di sini saya menampilkan nilai unique yang terdapat pada kolom 'dropoff_site' untuk mengetahui ada site apa saja di dalam datasetnya.`"
   ]
  },
  {
   "cell_type": "markdown",
   "id": "9108cd82",
   "metadata": {},
   "source": [
    "### Missing value pada site `MRF`"
   ]
  },
  {
   "cell_type": "code",
   "execution_count": 8,
   "id": "227063a7",
   "metadata": {},
   "outputs": [
    {
     "data": {
      "text/plain": [
       "89625"
      ]
     },
     "execution_count": 8,
     "metadata": {},
     "output_type": "execute_result"
    }
   ],
   "source": [
    "len(df[df.dropoff_site == 'MRF'])"
   ]
  },
  {
   "cell_type": "markdown",
   "id": "7e9359d1",
   "metadata": {},
   "source": [
    "`Bisa dilihat, ternyata tempat pembuangan sampah yang bernama MRF itu ada 89625.`"
   ]
  },
  {
   "cell_type": "code",
   "execution_count": 9,
   "id": "3e4b3d40",
   "metadata": {},
   "outputs": [
    {
     "data": {
      "text/plain": [
       "load_time        0\n",
       "load_type        0\n",
       "load_weight     22\n",
       "dropoff_site     0\n",
       "dtype: int64"
      ]
     },
     "execution_count": 9,
     "metadata": {},
     "output_type": "execute_result"
    }
   ],
   "source": [
    "df[df.dropoff_site == 'MRF'].isnull().sum()"
   ]
  },
  {
   "cell_type": "code",
   "execution_count": 10,
   "id": "9a80633c",
   "metadata": {},
   "outputs": [
    {
     "data": {
      "text/plain": [
       "0.00024546722454672244"
      ]
     },
     "execution_count": 10,
     "metadata": {},
     "output_type": "execute_result"
    }
   ],
   "source": [
    "#persentase missing value ketika kolom dropoff_site bernilai MRF\n",
    "\n",
    "22/89625"
   ]
  },
  {
   "cell_type": "markdown",
   "id": "6d9ea80d",
   "metadata": {},
   "source": [
    "`Ternyata, nilai missing value pada kolom load_weight ketika kolom dropoff bernilai MRF itu ada 22 dan persentase missing valuenya sekitar 0.02% yang mana sangat kecil. Hal ini berarti nilai MRF tidak masalah untuk digunakan dan nilai missing value dari kolom 'load_weight' ketika 'dropoff = 'MRF' nanti bisa diisi dengan nilai lain.`"
   ]
  },
  {
   "cell_type": "markdown",
   "id": "1b3e4f73",
   "metadata": {},
   "source": [
    "### Missing value pada site `ELMONT`"
   ]
  },
  {
   "cell_type": "code",
   "execution_count": 11,
   "id": "e039ce3a",
   "metadata": {},
   "outputs": [
    {
     "data": {
      "text/plain": [
       "1462"
      ]
     },
     "execution_count": 11,
     "metadata": {},
     "output_type": "execute_result"
    }
   ],
   "source": [
    "len(df[df.dropoff_site == 'ELMONT'])"
   ]
  },
  {
   "cell_type": "markdown",
   "id": "51fb7b00",
   "metadata": {},
   "source": [
    "`Bisa dilihat, ternyata tempat pembuangan sampah yang bernama ELMONT itu ada 1462`"
   ]
  },
  {
   "cell_type": "code",
   "execution_count": 12,
   "id": "dc4e220b",
   "metadata": {},
   "outputs": [
    {
     "data": {
      "text/plain": [
       "load_time          0\n",
       "load_type          0\n",
       "load_weight     1457\n",
       "dropoff_site       0\n",
       "dtype: int64"
      ]
     },
     "execution_count": 12,
     "metadata": {},
     "output_type": "execute_result"
    }
   ],
   "source": [
    "df[df.dropoff_site == 'ELMONT'].isnull().sum()"
   ]
  },
  {
   "cell_type": "code",
   "execution_count": 13,
   "id": "954fe3ff",
   "metadata": {},
   "outputs": [
    {
     "data": {
      "text/plain": [
       "99.65800273597812"
      ]
     },
     "execution_count": 13,
     "metadata": {},
     "output_type": "execute_result"
    }
   ],
   "source": [
    "#persentase missing value ketika kolom dropoff_site bernilai ELMONT\n",
    "\n",
    "(1457/1462)*100"
   ]
  },
  {
   "cell_type": "markdown",
   "id": "b88d6e2f",
   "metadata": {},
   "source": [
    "`Ternyata, nilai missing value pada kolom load_weight ketika kolom dropoff bernilai ELMONT itu ada 1457 yang mana persentase missing valuenya sekitar 99% sehingga hal ini tidak baik digunakan jika suatu variable memiliki missing value terlalu banyak. Untuk itu, saya akan mengeliminasi nilai ELMONT pada kolom dropoff_site`"
   ]
  },
  {
   "cell_type": "code",
   "execution_count": 14,
   "id": "a07bfdb6",
   "metadata": {},
   "outputs": [],
   "source": [
    "df.drop(df[df.dropoff_site == 'ELMONT'].index, inplace=True)"
   ]
  },
  {
   "cell_type": "markdown",
   "id": "703a3046",
   "metadata": {},
   "source": [
    "### Missing value pada site `KRAMER`"
   ]
  },
  {
   "cell_type": "code",
   "execution_count": 15,
   "id": "d617f5a7",
   "metadata": {},
   "outputs": [
    {
     "data": {
      "text/plain": [
       "316"
      ]
     },
     "execution_count": 15,
     "metadata": {},
     "output_type": "execute_result"
    }
   ],
   "source": [
    "len(df[df.dropoff_site == 'KRAMER'])"
   ]
  },
  {
   "cell_type": "markdown",
   "id": "31634ac4",
   "metadata": {},
   "source": [
    "`Bisa dilihat, ternyata tempat pembuangan sampah yang bernama KRAMER itu ada 316.`"
   ]
  },
  {
   "cell_type": "code",
   "execution_count": 16,
   "id": "c1ac9d97",
   "metadata": {},
   "outputs": [
    {
     "data": {
      "text/plain": [
       "load_time         0\n",
       "load_type         0\n",
       "load_weight     313\n",
       "dropoff_site      0\n",
       "dtype: int64"
      ]
     },
     "execution_count": 16,
     "metadata": {},
     "output_type": "execute_result"
    }
   ],
   "source": [
    "df[df.dropoff_site == 'KRAMER'].isnull().sum()"
   ]
  },
  {
   "cell_type": "code",
   "execution_count": 17,
   "id": "4f97350e",
   "metadata": {},
   "outputs": [
    {
     "data": {
      "text/plain": [
       "99.0506329113924"
      ]
     },
     "execution_count": 17,
     "metadata": {},
     "output_type": "execute_result"
    }
   ],
   "source": [
    "#persentase missing value ketika kolom dropoff_site bernilai KRAMER\n",
    "\n",
    "(313/316)*100"
   ]
  },
  {
   "cell_type": "markdown",
   "id": "d6d0785b",
   "metadata": {},
   "source": [
    "`Ternyata, nilai missing value pada kolom load_weight ketika kolom dropoff bernilai KRAMER itu ada 313 yang mana persentase missing valuenya sekitar 99% sehingga hal ini tidak baik digunakan jika suatu variable memiliki missing value terlalu banyak. Untuk itu, saya akan mengeliminasi nilai KRAMER pada kolom dropp_off`"
   ]
  },
  {
   "cell_type": "code",
   "execution_count": 18,
   "id": "fb4c9ce3",
   "metadata": {},
   "outputs": [],
   "source": [
    "df.drop(df[df.dropoff_site == 'KRAMER'].index, inplace=True)"
   ]
  },
  {
   "cell_type": "markdown",
   "id": "8ec188c9",
   "metadata": {},
   "source": [
    "### Missing value pada site `WILCAB`"
   ]
  },
  {
   "cell_type": "code",
   "execution_count": 19,
   "id": "cca7c32e",
   "metadata": {},
   "outputs": [
    {
     "data": {
      "text/plain": [
       "2754"
      ]
     },
     "execution_count": 19,
     "metadata": {},
     "output_type": "execute_result"
    }
   ],
   "source": [
    "len(df[df.dropoff_site == 'WILCAB'])"
   ]
  },
  {
   "cell_type": "markdown",
   "id": "1839981f",
   "metadata": {},
   "source": [
    "`Bisa dilihat, ternyata tempat pembuangan sampah yang bernama WILCAB itu ada 2754.`"
   ]
  },
  {
   "cell_type": "code",
   "execution_count": 20,
   "id": "a7a64cdb",
   "metadata": {},
   "outputs": [
    {
     "data": {
      "text/plain": [
       "load_time          0\n",
       "load_type          0\n",
       "load_weight     2745\n",
       "dropoff_site       0\n",
       "dtype: int64"
      ]
     },
     "execution_count": 20,
     "metadata": {},
     "output_type": "execute_result"
    }
   ],
   "source": [
    "df[df.dropoff_site == 'WILCAB'].isnull().sum()"
   ]
  },
  {
   "cell_type": "code",
   "execution_count": 21,
   "id": "ab97676a",
   "metadata": {},
   "outputs": [
    {
     "data": {
      "text/plain": [
       "99.67320261437908"
      ]
     },
     "execution_count": 21,
     "metadata": {},
     "output_type": "execute_result"
    }
   ],
   "source": [
    "#persentase missing value ketika kolom dropoff_site bernilai WILCAB\n",
    "\n",
    "(2745/2754)*100"
   ]
  },
  {
   "cell_type": "markdown",
   "id": "12a45319",
   "metadata": {},
   "source": [
    "`Ternyata, nilai missing value pada kolom load_weight ketika kolom dropoff bernilai WILCAB itu ada 2745 yang mana persentase missing valuenya sekitar 99% sehingga hal ini tidak baik digunakan jika suatu variable memiliki missing value terlalu banyak. Untuk itu, saya akan mengeliminasi nilai WILCAB pada kolom dropp_off`"
   ]
  },
  {
   "cell_type": "code",
   "execution_count": 22,
   "id": "08362365",
   "metadata": {},
   "outputs": [],
   "source": [
    "df.drop(df[df.dropoff_site == 'WILCAB'].index, inplace=True)"
   ]
  },
  {
   "cell_type": "markdown",
   "id": "97a16233",
   "metadata": {},
   "source": [
    "### Missing value pada site `ZILKER`"
   ]
  },
  {
   "cell_type": "code",
   "execution_count": 23,
   "id": "706d7dbd",
   "metadata": {},
   "outputs": [
    {
     "data": {
      "text/plain": [
       "1024"
      ]
     },
     "execution_count": 23,
     "metadata": {},
     "output_type": "execute_result"
    }
   ],
   "source": [
    "len(df[df.dropoff_site == 'ZILKER'])"
   ]
  },
  {
   "cell_type": "markdown",
   "id": "714351de",
   "metadata": {},
   "source": [
    "`Terdapat 1024 data pada site 'ZILKER'`"
   ]
  },
  {
   "cell_type": "code",
   "execution_count": 24,
   "id": "aa449c4b",
   "metadata": {},
   "outputs": [
    {
     "data": {
      "text/plain": [
       "load_time         0\n",
       "load_type         0\n",
       "load_weight     115\n",
       "dropoff_site      0\n",
       "dtype: int64"
      ]
     },
     "execution_count": 24,
     "metadata": {},
     "output_type": "execute_result"
    }
   ],
   "source": [
    "df[df.dropoff_site == 'ZILKER'].isnull().sum()"
   ]
  },
  {
   "cell_type": "markdown",
   "id": "57991fa8",
   "metadata": {},
   "source": [
    "`Terdapat 115 missing value pada 'load_weight' yang ada di site 'ZILKER'`\n",
    "\n",
    "```\n",
    "\n",
    "```"
   ]
  },
  {
   "cell_type": "code",
   "execution_count": 25,
   "id": "b094b972",
   "metadata": {},
   "outputs": [
    {
     "data": {
      "text/plain": [
       "11.23046875"
      ]
     },
     "execution_count": 25,
     "metadata": {},
     "output_type": "execute_result"
    }
   ],
   "source": [
    "#persentase missing value ketika kolom dropoff_site bernilai ZILKER\n",
    "\n",
    "(115/1024)*100"
   ]
  },
  {
   "cell_type": "markdown",
   "id": "30eb9c11",
   "metadata": {},
   "source": [
    "`Ternyata, nilai missing value pada kolom load_weight ketika kolom dropoff bernilai ZILKER itu ada 115 dan persentase missing valuenya sekitar 011.23% yang mana sangat kecil. Hal ini berarti nilai ZILKER tidak masalah untuk digunakan dan nilai missing value dari kolom 'load_weight' ketika 'dropoff_site = 'ZILKER' nanti bisa diisi dengan nilai lain.`"
   ]
  },
  {
   "cell_type": "markdown",
   "id": "f6ca7f22",
   "metadata": {},
   "source": [
    "### Missing value pada site `CLARKSON`"
   ]
  },
  {
   "cell_type": "code",
   "execution_count": 26,
   "id": "cb3e1c27",
   "metadata": {},
   "outputs": [
    {
     "data": {
      "text/plain": [
       "386"
      ]
     },
     "execution_count": 26,
     "metadata": {},
     "output_type": "execute_result"
    }
   ],
   "source": [
    "len(df[df.dropoff_site == 'CLARKSON'])"
   ]
  },
  {
   "cell_type": "markdown",
   "id": "07c07578",
   "metadata": {},
   "source": [
    "`Terdapat 386 data pada site 'CLARKSON'`"
   ]
  },
  {
   "cell_type": "code",
   "execution_count": 27,
   "id": "000fec71",
   "metadata": {},
   "outputs": [
    {
     "data": {
      "text/plain": [
       "load_time         0\n",
       "load_type         0\n",
       "load_weight     385\n",
       "dropoff_site      0\n",
       "dtype: int64"
      ]
     },
     "execution_count": 27,
     "metadata": {},
     "output_type": "execute_result"
    }
   ],
   "source": [
    "df[df.dropoff_site == 'CLARKSON'].isnull().sum()"
   ]
  },
  {
   "cell_type": "markdown",
   "id": "2c5893f0",
   "metadata": {},
   "source": [
    "`Terdapat 385 missing value pada 'load_weight' yang ada di site 'CLARKSON'`"
   ]
  },
  {
   "cell_type": "code",
   "execution_count": 28,
   "id": "a7f2c599",
   "metadata": {},
   "outputs": [
    {
     "data": {
      "text/plain": [
       "99.74093264248705"
      ]
     },
     "execution_count": 28,
     "metadata": {},
     "output_type": "execute_result"
    }
   ],
   "source": [
    "#persentase missing value ketika kolom dropoff_site bernilai CLARKSON\n",
    "\n",
    "(385/386)*100"
   ]
  },
  {
   "cell_type": "markdown",
   "id": "ec30847a",
   "metadata": {},
   "source": [
    "`Ternyata, nilai missing value pada kolom load_weight ketika kolom dropoff bernilai CLARKSON itu ada 313 yang mana persentase missing valuenya sekitar 99% sehingga hal ini tidak baik digunakan jika suatu variable memiliki missing value terlalu banyak. Untuk itu, saya akan mengeliminasi nilai CLARKSON pada kolom dropp_off`"
   ]
  },
  {
   "cell_type": "code",
   "execution_count": 29,
   "id": "865898b5",
   "metadata": {},
   "outputs": [],
   "source": [
    "df.drop(df[df.dropoff_site == 'CLARKSON'].index, inplace=True)"
   ]
  },
  {
   "cell_type": "markdown",
   "id": "0c1c9145",
   "metadata": {},
   "source": [
    "### Missing value pada site `PARK BEND`"
   ]
  },
  {
   "cell_type": "code",
   "execution_count": 30,
   "id": "00ac88a1",
   "metadata": {},
   "outputs": [
    {
     "data": {
      "text/plain": [
       "396"
      ]
     },
     "execution_count": 30,
     "metadata": {},
     "output_type": "execute_result"
    }
   ],
   "source": [
    "len(df[df.dropoff_site == 'PARK BEND'])"
   ]
  },
  {
   "cell_type": "markdown",
   "id": "c8c79be6",
   "metadata": {},
   "source": [
    "`Terdapat 396 data pada site 'PARK BEND'`"
   ]
  },
  {
   "cell_type": "code",
   "execution_count": 31,
   "id": "62744e8c",
   "metadata": {},
   "outputs": [
    {
     "data": {
      "text/plain": [
       "load_time        0\n",
       "load_type        0\n",
       "load_weight     10\n",
       "dropoff_site     0\n",
       "dtype: int64"
      ]
     },
     "execution_count": 31,
     "metadata": {},
     "output_type": "execute_result"
    }
   ],
   "source": [
    "df[df.dropoff_site == 'PARK BEND'].isnull().sum()"
   ]
  },
  {
   "cell_type": "markdown",
   "id": "c90503b9",
   "metadata": {},
   "source": [
    "`Terdapat 10 missing value pada 'load_weight' yang ada di site 'PARK BEND'`"
   ]
  },
  {
   "cell_type": "code",
   "execution_count": 32,
   "id": "4b8ff61b",
   "metadata": {},
   "outputs": [
    {
     "data": {
      "text/plain": [
       "2.525252525252525"
      ]
     },
     "execution_count": 32,
     "metadata": {},
     "output_type": "execute_result"
    }
   ],
   "source": [
    "#persentase missing value ketika kolom dropoff_site bernilai PARK BEND\n",
    "\n",
    "(10/396)*100"
   ]
  },
  {
   "cell_type": "markdown",
   "id": "6c7961ae",
   "metadata": {},
   "source": [
    "`Ternyata, nilai missing value pada kolom load_weight ketika kolom dropoff bernilai PARK BEND itu ada 10 dan persentase missing valuenya sekitar 2.52% yang mana sangat kecil. Hal ini berarti nilai PARK BEND tidak masalah untuk digunakan dan nilai missing value dari kolom 'load_weight' ketika 'dropoff_site = 'PARK BEND' nanti bisa diisi dengan nilai lain.`"
   ]
  },
  {
   "cell_type": "markdown",
   "id": "7c14b388",
   "metadata": {},
   "source": [
    "### Missing value pada site `TDS - MRF`"
   ]
  },
  {
   "cell_type": "code",
   "execution_count": 33,
   "id": "3474c2b3",
   "metadata": {},
   "outputs": [
    {
     "data": {
      "text/plain": [
       "54037"
      ]
     },
     "execution_count": 33,
     "metadata": {},
     "output_type": "execute_result"
    }
   ],
   "source": [
    "len(df[df.dropoff_site == 'TDS - MRF'])"
   ]
  },
  {
   "cell_type": "code",
   "execution_count": 34,
   "id": "9079c219",
   "metadata": {},
   "outputs": [
    {
     "data": {
      "text/plain": [
       "load_time        0\n",
       "load_type        0\n",
       "load_weight     19\n",
       "dropoff_site     0\n",
       "dtype: int64"
      ]
     },
     "execution_count": 34,
     "metadata": {},
     "output_type": "execute_result"
    }
   ],
   "source": [
    "df[df.dropoff_site == 'TDS - MRF'].isnull().sum()"
   ]
  },
  {
   "cell_type": "code",
   "execution_count": 35,
   "id": "107aa2ba",
   "metadata": {},
   "outputs": [
    {
     "data": {
      "text/plain": [
       "0.03516109332494402"
      ]
     },
     "execution_count": 35,
     "metadata": {},
     "output_type": "execute_result"
    }
   ],
   "source": [
    "#persentase missing value ketika kolom dropoff_site bernilai TDS - MRF\n",
    "\n",
    "(19/54037)*100"
   ]
  },
  {
   "cell_type": "markdown",
   "id": "89b8b079",
   "metadata": {},
   "source": [
    "`Ternyata, nilai missing value pada kolom load_weight ketika kolom dropoff bernilai TDS - MRF itu ada 19 dan persentase missing valuenya sekitar 0.03% yang mana sangat kecil. Hal ini berarti nilai TDS - MRF tidak masalah untuk digunakan dan nilai missing value dari kolom 'load_weight' ketika 'dropoff_site = 'TDS - MRF' nanti bisa diisi dengan nilai lain.`"
   ]
  },
  {
   "cell_type": "markdown",
   "id": "5eafc89a",
   "metadata": {},
   "source": [
    "## Handling Missing Value"
   ]
  },
  {
   "cell_type": "code",
   "execution_count": 36,
   "id": "977c7ca3",
   "metadata": {},
   "outputs": [
    {
     "name": "stdout",
     "output_type": "stream",
     "text": [
      "<class 'pandas.core.frame.DataFrame'>\n",
      "Int64Index: 145082 entries, 0 to 149999\n",
      "Data columns (total 4 columns):\n",
      " #   Column        Non-Null Count   Dtype              \n",
      "---  ------        --------------   -----              \n",
      " 0   load_time     145082 non-null  datetime64[ns, UTC]\n",
      " 1   load_type     145082 non-null  object             \n",
      " 2   load_weight   144916 non-null  float64            \n",
      " 3   dropoff_site  145082 non-null  object             \n",
      "dtypes: datetime64[ns, UTC](1), float64(1), object(2)\n",
      "memory usage: 5.5+ MB\n"
     ]
    }
   ],
   "source": [
    "df.info()"
   ]
  },
  {
   "cell_type": "markdown",
   "id": "cfd268fa",
   "metadata": {},
   "source": [
    "`Berdasarkan informasi dari dataset yang ada, ternyata terdapat missing value pada kolom 'load_weight'. Untuk itu, sebelum melakukan analisis lebih lanjut, saya akan mengatasi missing value tersebut.`"
   ]
  },
  {
   "cell_type": "code",
   "execution_count": 37,
   "id": "550eaf46",
   "metadata": {},
   "outputs": [
    {
     "data": {
      "text/plain": [
       "dropoff_site\n",
       "MRF           4260.0\n",
       "PARK BEND     5500.0\n",
       "TDS - MRF    10960.0\n",
       "ZILKER        8750.0\n",
       "Name: load_weight, dtype: float64"
      ]
     },
     "execution_count": 37,
     "metadata": {},
     "output_type": "execute_result"
    }
   ],
   "source": [
    "df.groupby('dropoff_site')['load_weight'].median()"
   ]
  },
  {
   "cell_type": "markdown",
   "id": "c357a51e",
   "metadata": {},
   "source": [
    "`Di sini saya mencari nilai median pada masing-masing site yang ada untuk digunakan dalam menghandle missing value. Alasan menggunakan nilai median supaya nilainya tidak terganggu oleh outlier.`"
   ]
  },
  {
   "cell_type": "markdown",
   "id": "f1febe75",
   "metadata": {},
   "source": [
    "### MRF"
   ]
  },
  {
   "cell_type": "code",
   "execution_count": 38,
   "id": "9198b205",
   "metadata": {},
   "outputs": [
    {
     "name": "stdout",
     "output_type": "stream",
     "text": [
      "<class 'pandas.core.frame.DataFrame'>\n",
      "Int64Index: 145082 entries, 0 to 149999\n",
      "Data columns (total 4 columns):\n",
      " #   Column        Non-Null Count   Dtype              \n",
      "---  ------        --------------   -----              \n",
      " 0   load_time     145082 non-null  datetime64[ns, UTC]\n",
      " 1   load_type     145082 non-null  object             \n",
      " 2   load_weight   144916 non-null  float64            \n",
      " 3   dropoff_site  145082 non-null  object             \n",
      "dtypes: datetime64[ns, UTC](1), float64(1), object(2)\n",
      "memory usage: 5.5+ MB\n"
     ]
    }
   ],
   "source": [
    "df.info()"
   ]
  },
  {
   "cell_type": "code",
   "execution_count": 39,
   "id": "0e55866b",
   "metadata": {},
   "outputs": [],
   "source": [
    "a = df[df.dropoff_site == 'MRF'].fillna(4260.0)\n",
    "df[df.dropoff_site == 'MRF'] = a"
   ]
  },
  {
   "cell_type": "markdown",
   "id": "30d4ff98",
   "metadata": {},
   "source": [
    "`Pada tahap ini saya mengisi nilai missing value dengan nilai median saat dropoff_site == 'MRF' ke dalam dataframe.`"
   ]
  },
  {
   "cell_type": "code",
   "execution_count": 40,
   "id": "796f2cb1",
   "metadata": {},
   "outputs": [
    {
     "name": "stdout",
     "output_type": "stream",
     "text": [
      "<class 'pandas.core.frame.DataFrame'>\n",
      "Int64Index: 145082 entries, 0 to 149999\n",
      "Data columns (total 4 columns):\n",
      " #   Column        Non-Null Count   Dtype              \n",
      "---  ------        --------------   -----              \n",
      " 0   load_time     145082 non-null  datetime64[ns, UTC]\n",
      " 1   load_type     145082 non-null  object             \n",
      " 2   load_weight   144938 non-null  float64            \n",
      " 3   dropoff_site  145082 non-null  object             \n",
      "dtypes: datetime64[ns, UTC](1), float64(1), object(2)\n",
      "memory usage: 5.5+ MB\n"
     ]
    }
   ],
   "source": [
    "df.info()"
   ]
  },
  {
   "cell_type": "markdown",
   "id": "652f45f8",
   "metadata": {},
   "source": [
    "`Informasi di atas menjelaskan kalau ternyata nilai untuk mengisi missing value berhasil dimasukkan dengan tanda bertambahnya nilai 'non-null' pada kolom load_weight.`"
   ]
  },
  {
   "cell_type": "markdown",
   "id": "cfad6485",
   "metadata": {},
   "source": [
    "### PARK BEND "
   ]
  },
  {
   "cell_type": "code",
   "execution_count": 41,
   "id": "c7184848",
   "metadata": {},
   "outputs": [],
   "source": [
    "b = df[df.dropoff_site == 'PARK BEND'].fillna(5500.00)\n",
    "df[df.dropoff_site == 'PARK BEND'] = b"
   ]
  },
  {
   "cell_type": "markdown",
   "id": "f6921ebd",
   "metadata": {},
   "source": [
    "`Pada tahap ini saya mengisi nilai missing value dengan nilai median saat dropoff_site == 'PARK BEND' ke dalam dataframe.`"
   ]
  },
  {
   "cell_type": "code",
   "execution_count": 42,
   "id": "af81a761",
   "metadata": {},
   "outputs": [
    {
     "name": "stdout",
     "output_type": "stream",
     "text": [
      "<class 'pandas.core.frame.DataFrame'>\n",
      "Int64Index: 145082 entries, 0 to 149999\n",
      "Data columns (total 4 columns):\n",
      " #   Column        Non-Null Count   Dtype              \n",
      "---  ------        --------------   -----              \n",
      " 0   load_time     145082 non-null  datetime64[ns, UTC]\n",
      " 1   load_type     145082 non-null  object             \n",
      " 2   load_weight   144948 non-null  float64            \n",
      " 3   dropoff_site  145082 non-null  object             \n",
      "dtypes: datetime64[ns, UTC](1), float64(1), object(2)\n",
      "memory usage: 5.5+ MB\n"
     ]
    }
   ],
   "source": [
    "df.info()"
   ]
  },
  {
   "cell_type": "markdown",
   "id": "6c88a307",
   "metadata": {},
   "source": [
    "`Informasi di atas menjelaskan kalau ternyata nilai untuk mengisi missing value berhasil dimasukkan dengan tanda bertambahnya nilai 'non-null' pada kolom load_weight.`"
   ]
  },
  {
   "cell_type": "markdown",
   "id": "0a2ae103",
   "metadata": {},
   "source": [
    "### TDS - MRF"
   ]
  },
  {
   "cell_type": "code",
   "execution_count": 43,
   "id": "58bd6112",
   "metadata": {},
   "outputs": [],
   "source": [
    "c = df[df.dropoff_site == 'TDS - MRF'].fillna(10960.0)\n",
    "df[df.dropoff_site == 'TDS - MRF'] = c"
   ]
  },
  {
   "cell_type": "markdown",
   "id": "3f40a153",
   "metadata": {},
   "source": [
    "`Pada tahap ini saya mengisi nilai missing value dengan nilai median saat dropoff_site == 'TDS - MRF' ke dalam dataframe.`"
   ]
  },
  {
   "cell_type": "code",
   "execution_count": 44,
   "id": "c9c16e26",
   "metadata": {},
   "outputs": [
    {
     "data": {
      "text/html": [
       "<div>\n",
       "<style scoped>\n",
       "    .dataframe tbody tr th:only-of-type {\n",
       "        vertical-align: middle;\n",
       "    }\n",
       "\n",
       "    .dataframe tbody tr th {\n",
       "        vertical-align: top;\n",
       "    }\n",
       "\n",
       "    .dataframe thead th {\n",
       "        text-align: right;\n",
       "    }\n",
       "</style>\n",
       "<table border=\"1\" class=\"dataframe\">\n",
       "  <thead>\n",
       "    <tr style=\"text-align: right;\">\n",
       "      <th></th>\n",
       "      <th>load_time</th>\n",
       "      <th>load_type</th>\n",
       "      <th>load_weight</th>\n",
       "      <th>dropoff_site</th>\n",
       "    </tr>\n",
       "  </thead>\n",
       "  <tbody>\n",
       "    <tr>\n",
       "      <th>95963</th>\n",
       "      <td>2014-08-29 11:00:00+00:00</td>\n",
       "      <td>RECYCLING - SINGLE STREAM</td>\n",
       "      <td>5760.0</td>\n",
       "      <td>TDS - MRF</td>\n",
       "    </tr>\n",
       "    <tr>\n",
       "      <th>95964</th>\n",
       "      <td>2011-10-28 01:12:00+00:00</td>\n",
       "      <td>RECYCLING - SINGLE STREAM</td>\n",
       "      <td>5560.0</td>\n",
       "      <td>TDS - MRF</td>\n",
       "    </tr>\n",
       "    <tr>\n",
       "      <th>95965</th>\n",
       "      <td>2012-04-06 02:23:00+00:00</td>\n",
       "      <td>RECYCLING - SINGLE STREAM</td>\n",
       "      <td>16500.0</td>\n",
       "      <td>TDS - MRF</td>\n",
       "    </tr>\n",
       "    <tr>\n",
       "      <th>95966</th>\n",
       "      <td>2011-07-08 01:50:00+00:00</td>\n",
       "      <td>RECYCLING - SINGLE STREAM</td>\n",
       "      <td>2640.0</td>\n",
       "      <td>TDS - MRF</td>\n",
       "    </tr>\n",
       "    <tr>\n",
       "      <th>95967</th>\n",
       "      <td>2011-01-14 12:54:00+00:00</td>\n",
       "      <td>RECYCLING - SINGLE STREAM</td>\n",
       "      <td>5480.0</td>\n",
       "      <td>TDS - MRF</td>\n",
       "    </tr>\n",
       "    <tr>\n",
       "      <th>...</th>\n",
       "      <td>...</td>\n",
       "      <td>...</td>\n",
       "      <td>...</td>\n",
       "      <td>...</td>\n",
       "    </tr>\n",
       "    <tr>\n",
       "      <th>149995</th>\n",
       "      <td>2011-08-17 12:45:00+00:00</td>\n",
       "      <td>RECYCLING - SINGLE STREAM</td>\n",
       "      <td>13380.0</td>\n",
       "      <td>TDS - MRF</td>\n",
       "    </tr>\n",
       "    <tr>\n",
       "      <th>149996</th>\n",
       "      <td>2011-06-08 10:59:00+00:00</td>\n",
       "      <td>RECYCLING - SINGLE STREAM</td>\n",
       "      <td>14080.0</td>\n",
       "      <td>TDS - MRF</td>\n",
       "    </tr>\n",
       "    <tr>\n",
       "      <th>149997</th>\n",
       "      <td>2012-04-11 12:09:00+00:00</td>\n",
       "      <td>RECYCLING - SINGLE STREAM</td>\n",
       "      <td>14260.0</td>\n",
       "      <td>TDS - MRF</td>\n",
       "    </tr>\n",
       "    <tr>\n",
       "      <th>149998</th>\n",
       "      <td>2011-08-31 02:50:00+00:00</td>\n",
       "      <td>RECYCLING - SINGLE STREAM</td>\n",
       "      <td>4100.0</td>\n",
       "      <td>TDS - MRF</td>\n",
       "    </tr>\n",
       "    <tr>\n",
       "      <th>149999</th>\n",
       "      <td>2011-07-20 11:21:00+00:00</td>\n",
       "      <td>RECYCLING - SINGLE STREAM</td>\n",
       "      <td>6220.0</td>\n",
       "      <td>TDS - MRF</td>\n",
       "    </tr>\n",
       "  </tbody>\n",
       "</table>\n",
       "<p>54037 rows × 4 columns</p>\n",
       "</div>"
      ],
      "text/plain": [
       "                       load_time                  load_type  load_weight  \\\n",
       "95963  2014-08-29 11:00:00+00:00  RECYCLING - SINGLE STREAM       5760.0   \n",
       "95964  2011-10-28 01:12:00+00:00  RECYCLING - SINGLE STREAM       5560.0   \n",
       "95965  2012-04-06 02:23:00+00:00  RECYCLING - SINGLE STREAM      16500.0   \n",
       "95966  2011-07-08 01:50:00+00:00  RECYCLING - SINGLE STREAM       2640.0   \n",
       "95967  2011-01-14 12:54:00+00:00  RECYCLING - SINGLE STREAM       5480.0   \n",
       "...                          ...                        ...          ...   \n",
       "149995 2011-08-17 12:45:00+00:00  RECYCLING - SINGLE STREAM      13380.0   \n",
       "149996 2011-06-08 10:59:00+00:00  RECYCLING - SINGLE STREAM      14080.0   \n",
       "149997 2012-04-11 12:09:00+00:00  RECYCLING - SINGLE STREAM      14260.0   \n",
       "149998 2011-08-31 02:50:00+00:00  RECYCLING - SINGLE STREAM       4100.0   \n",
       "149999 2011-07-20 11:21:00+00:00  RECYCLING - SINGLE STREAM       6220.0   \n",
       "\n",
       "       dropoff_site  \n",
       "95963     TDS - MRF  \n",
       "95964     TDS - MRF  \n",
       "95965     TDS - MRF  \n",
       "95966     TDS - MRF  \n",
       "95967     TDS - MRF  \n",
       "...             ...  \n",
       "149995    TDS - MRF  \n",
       "149996    TDS - MRF  \n",
       "149997    TDS - MRF  \n",
       "149998    TDS - MRF  \n",
       "149999    TDS - MRF  \n",
       "\n",
       "[54037 rows x 4 columns]"
      ]
     },
     "execution_count": 44,
     "metadata": {},
     "output_type": "execute_result"
    }
   ],
   "source": [
    "df[df.dropoff_site == 'TDS - MRF'] "
   ]
  },
  {
   "cell_type": "markdown",
   "id": "f7553cb9",
   "metadata": {},
   "source": [
    "`Informasi di atas menjelaskan kalau ternyata nilai untuk mengisi missing value berhasil dimasukkan dengan tanda bertambahnya nilai 'non-null' pada kolom load_weight.`"
   ]
  },
  {
   "cell_type": "markdown",
   "id": "3ed89d1e",
   "metadata": {},
   "source": [
    "### ZILKER"
   ]
  },
  {
   "cell_type": "code",
   "execution_count": 45,
   "id": "241d4a44",
   "metadata": {},
   "outputs": [],
   "source": [
    "d = df[df.dropoff_site == 'ZILKER'].fillna(8750.0)\n",
    "df[df.dropoff_site == 'ZILKER'] = d"
   ]
  },
  {
   "cell_type": "code",
   "execution_count": 46,
   "id": "439f9266",
   "metadata": {},
   "outputs": [
    {
     "name": "stdout",
     "output_type": "stream",
     "text": [
      "<class 'pandas.core.frame.DataFrame'>\n",
      "Int64Index: 145082 entries, 0 to 149999\n",
      "Data columns (total 4 columns):\n",
      " #   Column        Non-Null Count   Dtype              \n",
      "---  ------        --------------   -----              \n",
      " 0   load_time     145082 non-null  datetime64[ns, UTC]\n",
      " 1   load_type     145082 non-null  object             \n",
      " 2   load_weight   145082 non-null  float64            \n",
      " 3   dropoff_site  145082 non-null  object             \n",
      "dtypes: datetime64[ns, UTC](1), float64(1), object(2)\n",
      "memory usage: 5.5+ MB\n"
     ]
    }
   ],
   "source": [
    "df.info()"
   ]
  },
  {
   "cell_type": "markdown",
   "id": "0609c4e4",
   "metadata": {},
   "source": [
    "`Informasi di atas menjelaskan kalau ternyata nilai untuk mengisi missing value berhasil dimasukkan dengan tanda bertambahnya nilai 'non-null' pada kolom load_weight.`"
   ]
  },
  {
   "cell_type": "markdown",
   "id": "582ca12e",
   "metadata": {},
   "source": [
    "## 2. Selanjutnya, lakukan eksplorasi data sederhana guna mengetahui dan mengenali data yang kamu punya. Kamu bisa lakukan hal-hal berikut untuk mengeksplorasi data kamu.\n",
    "\n",
    "- Melihat rentang waktu pengambilan data\n",
    "- Ada apa saja tipe load sampah di kota Austin berdasarkan data\n",
    "- Mengetahui tempat pembuangan sampah ada dimana saja\n",
    "- dsb."
   ]
  },
  {
   "cell_type": "markdown",
   "id": "4afdd6e0",
   "metadata": {},
   "source": [
    "### Rata-rata sampah dalam 10 tahun terkahir"
   ]
  },
  {
   "cell_type": "code",
   "execution_count": 47,
   "id": "83dcbafa",
   "metadata": {},
   "outputs": [],
   "source": [
    "year = df.load_time.dt\n",
    "list_year = df['load_time'] = year.year\n",
    "df.replace(df.load_time, list_year, inplace=True)"
   ]
  },
  {
   "cell_type": "markdown",
   "id": "69c1f313",
   "metadata": {},
   "source": [
    "`Di sini saya hanya mengakses data tahun pada kolom 'load_time' supaya lebih mudah untuk menganalisis datanya.`"
   ]
  },
  {
   "cell_type": "code",
   "execution_count": 48,
   "id": "a9196f1c",
   "metadata": {},
   "outputs": [
    {
     "data": {
      "text/plain": [
       "load_time\n",
       "2014    10205.843366\n",
       "2013    10133.705896\n",
       "2012    10118.769682\n",
       "2015    10018.219924\n",
       "2016     9983.111411\n",
       "2011     9978.133883\n",
       "2017     9920.842325\n",
       "2018     9755.972945\n",
       "2020     9674.997045\n",
       "2019     9459.229307\n",
       "Name: load_weight, dtype: float64"
      ]
     },
     "execution_count": 48,
     "metadata": {},
     "output_type": "execute_result"
    }
   ],
   "source": [
    "df.groupby('load_time')['load_weight'].mean().sort_values(ascending = False).head(10)"
   ]
  },
  {
   "cell_type": "markdown",
   "id": "763f968a",
   "metadata": {},
   "source": [
    "`Bisa dilihat, tahun 2014 merupakan tahun yang memiliki rata-rata sampah paling banyak, disusul oleh tahun 2013, dan tahun 2019 merupakan tahun memiliki rata-rata sampah paling sedikit.`"
   ]
  },
  {
   "cell_type": "markdown",
   "id": "d5150f69",
   "metadata": {},
   "source": [
    "### Ada apa saja tipe load sampah di kota Austin berdasarkan data"
   ]
  },
  {
   "cell_type": "code",
   "execution_count": 49,
   "id": "d66a1f64",
   "metadata": {},
   "outputs": [
    {
     "data": {
      "text/plain": [
       "load_type\n",
       "BRUSH                           5118.453125\n",
       "BULK                            5634.761905\n",
       "CONTAMINATED RECYCLING          6980.000000\n",
       "DEAD ANIMAL                      312.903226\n",
       "GARBAGE COLLECTIONS            16900.864929\n",
       "LITTER                          2313.333333\n",
       "MIXED LITTER                    4963.636364\n",
       "MULCH                           9370.000000\n",
       "ORGANICS                       11831.428571\n",
       "RECYCLED METAL                  9254.750000\n",
       "RECYCLING - COMINGLE            3250.484565\n",
       "RECYCLING - PAPER               4407.458305\n",
       "RECYCLING - PLASTIC BAGS         170.000000\n",
       "RECYCLING - SINGLE STREAM       9760.089155\n",
       "SWEEPING                        8583.076923\n",
       "TIRES                           2022.321404\n",
       "YARD TRIMMING                  12932.559758\n",
       "YARD TRIMMING - X-MAS TREES     7500.000000\n",
       "Name: load_weight, dtype: float64"
      ]
     },
     "execution_count": 49,
     "metadata": {},
     "output_type": "execute_result"
    }
   ],
   "source": [
    "df.groupby('load_type')['load_weight'].mean()"
   ]
  },
  {
   "cell_type": "markdown",
   "id": "1c451ea4",
   "metadata": {},
   "source": [
    "`Hasil di atas menampilkan tipe-tipe sampah yang ada di kota austin dan juga rata-rata dari berat sampahnya`"
   ]
  },
  {
   "cell_type": "markdown",
   "id": "3519cf1f",
   "metadata": {},
   "source": [
    "### Mengetahui tempat pembuangan sampah ada dimana saja"
   ]
  },
  {
   "cell_type": "code",
   "execution_count": 50,
   "id": "9b9807e8",
   "metadata": {},
   "outputs": [
    {
     "data": {
      "text/plain": [
       "dropoff_site\n",
       "MRF           5304.763816\n",
       "PARK BEND     7466.691919\n",
       "TDS - MRF    10118.503747\n",
       "ZILKER        9647.423828\n",
       "Name: load_weight, dtype: float64"
      ]
     },
     "execution_count": 50,
     "metadata": {},
     "output_type": "execute_result"
    }
   ],
   "source": [
    "df.groupby('dropoff_site')['load_weight'].mean()"
   ]
  },
  {
   "cell_type": "markdown",
   "id": "7e8dbe43",
   "metadata": {},
   "source": [
    "`Hasil di atas menampilkan tempat pembuangan sampah yang ada di kota austin dan juga rata-rata dari berat sampahnya`"
   ]
  },
  {
   "cell_type": "markdown",
   "id": "8da15ec7",
   "metadata": {},
   "source": [
    "## 3. Insight based on Central Tendency (mean, median, and modus)"
   ]
  },
  {
   "cell_type": "code",
   "execution_count": 51,
   "id": "30cab06e",
   "metadata": {},
   "outputs": [
    {
     "data": {
      "text/html": [
       "<div>\n",
       "<style scoped>\n",
       "    .dataframe tbody tr th:only-of-type {\n",
       "        vertical-align: middle;\n",
       "    }\n",
       "\n",
       "    .dataframe tbody tr th {\n",
       "        vertical-align: top;\n",
       "    }\n",
       "\n",
       "    .dataframe thead tr th {\n",
       "        text-align: left;\n",
       "    }\n",
       "\n",
       "    .dataframe thead tr:last-of-type th {\n",
       "        text-align: right;\n",
       "    }\n",
       "</style>\n",
       "<table border=\"1\" class=\"dataframe\">\n",
       "  <thead>\n",
       "    <tr>\n",
       "      <th></th>\n",
       "      <th colspan=\"2\" halign=\"left\">load_weight</th>\n",
       "    </tr>\n",
       "    <tr>\n",
       "      <th></th>\n",
       "      <th>mean</th>\n",
       "      <th>median</th>\n",
       "    </tr>\n",
       "    <tr>\n",
       "      <th>dropoff_site</th>\n",
       "      <th></th>\n",
       "      <th></th>\n",
       "    </tr>\n",
       "  </thead>\n",
       "  <tbody>\n",
       "    <tr>\n",
       "      <th>MRF</th>\n",
       "      <td>5304.763816</td>\n",
       "      <td>4260.0</td>\n",
       "    </tr>\n",
       "    <tr>\n",
       "      <th>PARK BEND</th>\n",
       "      <td>7466.691919</td>\n",
       "      <td>5500.0</td>\n",
       "    </tr>\n",
       "    <tr>\n",
       "      <th>TDS - MRF</th>\n",
       "      <td>10118.503747</td>\n",
       "      <td>10960.0</td>\n",
       "    </tr>\n",
       "    <tr>\n",
       "      <th>ZILKER</th>\n",
       "      <td>9647.423828</td>\n",
       "      <td>8750.0</td>\n",
       "    </tr>\n",
       "  </tbody>\n",
       "</table>\n",
       "</div>"
      ],
      "text/plain": [
       "               load_weight         \n",
       "                      mean   median\n",
       "dropoff_site                       \n",
       "MRF            5304.763816   4260.0\n",
       "PARK BEND      7466.691919   5500.0\n",
       "TDS - MRF     10118.503747  10960.0\n",
       "ZILKER         9647.423828   8750.0"
      ]
     },
     "execution_count": 51,
     "metadata": {},
     "output_type": "execute_result"
    }
   ],
   "source": [
    "df.groupby('dropoff_site').agg({'load_weight':['mean', 'median']})"
   ]
  },
  {
   "cell_type": "code",
   "execution_count": 52,
   "id": "9aae979b",
   "metadata": {},
   "outputs": [
    {
     "data": {
      "text/html": [
       "<div>\n",
       "<style scoped>\n",
       "    .dataframe tbody tr th:only-of-type {\n",
       "        vertical-align: middle;\n",
       "    }\n",
       "\n",
       "    .dataframe tbody tr th {\n",
       "        vertical-align: top;\n",
       "    }\n",
       "\n",
       "    .dataframe thead th {\n",
       "        text-align: right;\n",
       "    }\n",
       "</style>\n",
       "<table border=\"1\" class=\"dataframe\">\n",
       "  <thead>\n",
       "    <tr style=\"text-align: right;\">\n",
       "      <th></th>\n",
       "      <th>load_weight</th>\n",
       "    </tr>\n",
       "    <tr>\n",
       "      <th>dropoff_site</th>\n",
       "      <th></th>\n",
       "    </tr>\n",
       "  </thead>\n",
       "  <tbody>\n",
       "    <tr>\n",
       "      <th>MRF</th>\n",
       "      <td>3460.0</td>\n",
       "    </tr>\n",
       "    <tr>\n",
       "      <th>PARK BEND</th>\n",
       "      <td>5500.0</td>\n",
       "    </tr>\n",
       "    <tr>\n",
       "      <th>TDS - MRF</th>\n",
       "      <td>12300.0</td>\n",
       "    </tr>\n",
       "    <tr>\n",
       "      <th>ZILKER</th>\n",
       "      <td>15000.0</td>\n",
       "    </tr>\n",
       "  </tbody>\n",
       "</table>\n",
       "</div>"
      ],
      "text/plain": [
       "              load_weight\n",
       "dropoff_site             \n",
       "MRF                3460.0\n",
       "PARK BEND          5500.0\n",
       "TDS - MRF         12300.0\n",
       "ZILKER            15000.0"
      ]
     },
     "execution_count": 52,
     "metadata": {},
     "output_type": "execute_result"
    }
   ],
   "source": [
    "df.groupby('dropoff_site').agg({'load_weight': pd.Series.mode})"
   ]
  },
  {
   "cell_type": "markdown",
   "id": "4d9818ff",
   "metadata": {},
   "source": [
    "```\n",
    "Berdasarkan hasil dari central tendency pada masing-masing site yang ada, ternyata masing-masing site memiliki nilai rata-rata, modus, dan median yang berbeda-beda.\n",
    "\n",
    "Perbedaan nilai rata-rata bobot sampah pada masing-masing site terhadap mediannya menjelaskan kalau ternyata nilainya tidak terlalu jauh. Hal ini berarti jumlah sebaran bobot sampah yang terdapat pada masing-masing site ini memiliki kemungkinan bahwa terdistribusi normal, ataupun jika tidak normal, mungkin nilai skewnessnya tidak terlalu besar.\n",
    "```"
   ]
  },
  {
   "cell_type": "markdown",
   "id": "3460f1ac",
   "metadata": {},
   "source": [
    "## Interest Site\n",
    "```\n",
    "Pada tahap ini saya tertarik untuk menganalisis sistem pembuangan dan pengelolaan sampah di site `TDS - MRF` karena memiliki rata-rata sampah yang paling banyak dibandingkan yang lainnya. Dan juga, selisih nilai rata-rata site `TDS-MRF` terhadap mediannya merupakan selisih yang paling kecil dibandingkan dengan yang lainnya.\n",
    "```"
   ]
  },
  {
   "cell_type": "markdown",
   "id": "e4dabfbe",
   "metadata": {},
   "source": [
    "## Outlier Checking"
   ]
  },
  {
   "cell_type": "code",
   "execution_count": 53,
   "id": "2d9c3b63",
   "metadata": {},
   "outputs": [],
   "source": [
    "import seaborn as sns"
   ]
  },
  {
   "cell_type": "code",
   "execution_count": 54,
   "id": "6243a043",
   "metadata": {},
   "outputs": [
    {
     "data": {
      "text/html": [
       "<div>\n",
       "<style scoped>\n",
       "    .dataframe tbody tr th:only-of-type {\n",
       "        vertical-align: middle;\n",
       "    }\n",
       "\n",
       "    .dataframe tbody tr th {\n",
       "        vertical-align: top;\n",
       "    }\n",
       "\n",
       "    .dataframe thead th {\n",
       "        text-align: right;\n",
       "    }\n",
       "</style>\n",
       "<table border=\"1\" class=\"dataframe\">\n",
       "  <thead>\n",
       "    <tr style=\"text-align: right;\">\n",
       "      <th></th>\n",
       "      <th>load_time</th>\n",
       "      <th>load_type</th>\n",
       "      <th>load_weight</th>\n",
       "      <th>dropoff_site</th>\n",
       "    </tr>\n",
       "  </thead>\n",
       "  <tbody>\n",
       "    <tr>\n",
       "      <th>95963</th>\n",
       "      <td>2014</td>\n",
       "      <td>RECYCLING - SINGLE STREAM</td>\n",
       "      <td>5760.0</td>\n",
       "      <td>TDS - MRF</td>\n",
       "    </tr>\n",
       "    <tr>\n",
       "      <th>95964</th>\n",
       "      <td>2011</td>\n",
       "      <td>RECYCLING - SINGLE STREAM</td>\n",
       "      <td>5560.0</td>\n",
       "      <td>TDS - MRF</td>\n",
       "    </tr>\n",
       "    <tr>\n",
       "      <th>95965</th>\n",
       "      <td>2012</td>\n",
       "      <td>RECYCLING - SINGLE STREAM</td>\n",
       "      <td>16500.0</td>\n",
       "      <td>TDS - MRF</td>\n",
       "    </tr>\n",
       "    <tr>\n",
       "      <th>95966</th>\n",
       "      <td>2011</td>\n",
       "      <td>RECYCLING - SINGLE STREAM</td>\n",
       "      <td>2640.0</td>\n",
       "      <td>TDS - MRF</td>\n",
       "    </tr>\n",
       "    <tr>\n",
       "      <th>95967</th>\n",
       "      <td>2011</td>\n",
       "      <td>RECYCLING - SINGLE STREAM</td>\n",
       "      <td>5480.0</td>\n",
       "      <td>TDS - MRF</td>\n",
       "    </tr>\n",
       "  </tbody>\n",
       "</table>\n",
       "</div>"
      ],
      "text/plain": [
       "       load_time                  load_type  load_weight dropoff_site\n",
       "95963       2014  RECYCLING - SINGLE STREAM       5760.0    TDS - MRF\n",
       "95964       2011  RECYCLING - SINGLE STREAM       5560.0    TDS - MRF\n",
       "95965       2012  RECYCLING - SINGLE STREAM      16500.0    TDS - MRF\n",
       "95966       2011  RECYCLING - SINGLE STREAM       2640.0    TDS - MRF\n",
       "95967       2011  RECYCLING - SINGLE STREAM       5480.0    TDS - MRF"
      ]
     },
     "execution_count": 54,
     "metadata": {},
     "output_type": "execute_result"
    }
   ],
   "source": [
    "site_interest = df[df.dropoff_site == 'TDS - MRF']\n",
    "site_interest.head()"
   ]
  },
  {
   "cell_type": "markdown",
   "id": "04bd82b9",
   "metadata": {},
   "source": [
    "```\n",
    "Pada tahap ini saya hanya mengakses site 'TDS - MRF' untuk dilakukan analisis lebih lenjut terhadap outliernnya.\n",
    "```"
   ]
  },
  {
   "cell_type": "markdown",
   "id": "1943bec5",
   "metadata": {},
   "source": [
    "### Extreme Value Analysis"
   ]
  },
  {
   "cell_type": "code",
   "execution_count": 55,
   "id": "069c584b",
   "metadata": {},
   "outputs": [
    {
     "data": {
      "text/plain": [
       "<AxesSubplot:xlabel='dropoff_site', ylabel='load_weight'>"
      ]
     },
     "execution_count": 55,
     "metadata": {},
     "output_type": "execute_result"
    },
    {
     "data": {
      "image/png": "[encoded data removed]",
      "text/plain": [
       "<Figure size 432x288 with 1 Axes>"
      ]
     },
     "metadata": {
      "needs_background": "light"
     },
     "output_type": "display_data"
    }
   ],
   "source": [
    "sns.boxplot(data = df, y = 'load_weight', x = 'dropoff_site')"
   ]
  },
  {
   "cell_type": "code",
   "execution_count": 56,
   "id": "4a60b860",
   "metadata": {},
   "outputs": [
    {
     "data": {
      "text/plain": [
       "-0.03650835934393152"
      ]
     },
     "execution_count": 56,
     "metadata": {},
     "output_type": "execute_result"
    }
   ],
   "source": [
    "site_interest.load_weight.skew()"
   ]
  },
  {
   "cell_type": "code",
   "execution_count": 57,
   "id": "13dc4589",
   "metadata": {},
   "outputs": [
    {
     "data": {
      "text/plain": [
       "<matplotlib.legend.Legend at 0x1da0c9ab5e0>"
      ]
     },
     "execution_count": 57,
     "metadata": {},
     "output_type": "execute_result"
    },
    {
     "data": {
      "image/png": "[encoded data removed]",
      "text/plain": [
       "<Figure size 432x288 with 1 Axes>"
      ]
     },
     "metadata": {
      "needs_background": "light"
     },
     "output_type": "display_data"
    }
   ],
   "source": [
    "sns.kdeplot(site_interest['load_weight'])\n",
    "plt.axvline(site_interest['load_weight'].mean(), color='r', label='mean') \n",
    "plt.axvline(site_interest['load_weight'].median(), color='g', label='median') \n",
    "plt.legend()"
   ]
  },
  {
   "cell_type": "markdown",
   "id": "4c3c78ca",
   "metadata": {},
   "source": [
    "`Karena nilai dari skewness yang didapatkan sebesar -0.0365, maka saya akan menggunakan angka 1.5 sebagai pengali pada perhitungan Extreme Value Analysis Tukey untuk mengatasi nilai outlier. Bisa dilihat, hasilnya itu menandakan skew positif yang mana ekornya ke kanan. Hal ini berarti datanya lebih tertarik ke kanan atau lebih besar daripada nilai median.`"
   ]
  },
  {
   "cell_type": "code",
   "execution_count": 58,
   "id": "0422a659",
   "metadata": {},
   "outputs": [
    {
     "data": {
      "text/plain": [
       "0.25     6700.0\n",
       "0.50    10960.0\n",
       "0.75    12900.0\n",
       "Name: load_weight, dtype: float64"
      ]
     },
     "execution_count": 58,
     "metadata": {},
     "output_type": "execute_result"
    }
   ],
   "source": [
    "# EVA untuk data yang tidak terdistribusi normal (IQR)\n",
    "site_interest.load_weight.quantile([.25, .5, .75])"
   ]
  },
  {
   "cell_type": "code",
   "execution_count": 59,
   "id": "4dcb9b1b",
   "metadata": {},
   "outputs": [],
   "source": [
    "Q3 = site_interest.load_weight.quantile(.75)\n",
    "Q1 = site_interest.load_weight.quantile(.25)\n",
    "\n",
    "IQR = Q3 - Q1\n",
    "\n",
    "upper = Q3 + (1.5*IQR)\n",
    "lower = Q1 - (1.5*IQR)"
   ]
  },
  {
   "cell_type": "markdown",
   "id": "6cfd4651",
   "metadata": {},
   "source": [
    "### Batas atas"
   ]
  },
  {
   "cell_type": "code",
   "execution_count": 60,
   "id": "45388240",
   "metadata": {},
   "outputs": [
    {
     "data": {
      "text/plain": [
       "22200.0"
      ]
     },
     "execution_count": 60,
     "metadata": {},
     "output_type": "execute_result"
    }
   ],
   "source": [
    "upper"
   ]
  },
  {
   "cell_type": "markdown",
   "id": "7177faf9",
   "metadata": {},
   "source": [
    "`Batas atas dari hasil Extreme Value Analysis sebesar 22200.0`"
   ]
  },
  {
   "cell_type": "markdown",
   "id": "f5aa6083",
   "metadata": {},
   "source": [
    "### Batas bawah"
   ]
  },
  {
   "cell_type": "code",
   "execution_count": 61,
   "id": "569473a1",
   "metadata": {},
   "outputs": [
    {
     "data": {
      "text/plain": [
       "-2600.0"
      ]
     },
     "execution_count": 61,
     "metadata": {},
     "output_type": "execute_result"
    }
   ],
   "source": [
    "lower"
   ]
  },
  {
   "cell_type": "markdown",
   "id": "6cf7cb4d",
   "metadata": {},
   "source": [
    "`Batas bawah dari hasil Extreme Value Analysis sebesar -2600.0`"
   ]
  },
  {
   "cell_type": "code",
   "execution_count": 62,
   "id": "76897891",
   "metadata": {},
   "outputs": [
    {
     "data": {
      "text/html": [
       "<div>\n",
       "<style scoped>\n",
       "    .dataframe tbody tr th:only-of-type {\n",
       "        vertical-align: middle;\n",
       "    }\n",
       "\n",
       "    .dataframe tbody tr th {\n",
       "        vertical-align: top;\n",
       "    }\n",
       "\n",
       "    .dataframe thead th {\n",
       "        text-align: right;\n",
       "    }\n",
       "</style>\n",
       "<table border=\"1\" class=\"dataframe\">\n",
       "  <thead>\n",
       "    <tr style=\"text-align: right;\">\n",
       "      <th></th>\n",
       "      <th>load_time</th>\n",
       "      <th>load_type</th>\n",
       "      <th>load_weight</th>\n",
       "      <th>dropoff_site</th>\n",
       "    </tr>\n",
       "  </thead>\n",
       "  <tbody>\n",
       "    <tr>\n",
       "      <th>95963</th>\n",
       "      <td>2014</td>\n",
       "      <td>RECYCLING - SINGLE STREAM</td>\n",
       "      <td>5760.0</td>\n",
       "      <td>TDS - MRF</td>\n",
       "    </tr>\n",
       "    <tr>\n",
       "      <th>95964</th>\n",
       "      <td>2011</td>\n",
       "      <td>RECYCLING - SINGLE STREAM</td>\n",
       "      <td>5560.0</td>\n",
       "      <td>TDS - MRF</td>\n",
       "    </tr>\n",
       "    <tr>\n",
       "      <th>95965</th>\n",
       "      <td>2012</td>\n",
       "      <td>RECYCLING - SINGLE STREAM</td>\n",
       "      <td>16500.0</td>\n",
       "      <td>TDS - MRF</td>\n",
       "    </tr>\n",
       "    <tr>\n",
       "      <th>95966</th>\n",
       "      <td>2011</td>\n",
       "      <td>RECYCLING - SINGLE STREAM</td>\n",
       "      <td>2640.0</td>\n",
       "      <td>TDS - MRF</td>\n",
       "    </tr>\n",
       "    <tr>\n",
       "      <th>95967</th>\n",
       "      <td>2011</td>\n",
       "      <td>RECYCLING - SINGLE STREAM</td>\n",
       "      <td>5480.0</td>\n",
       "      <td>TDS - MRF</td>\n",
       "    </tr>\n",
       "  </tbody>\n",
       "</table>\n",
       "</div>"
      ],
      "text/plain": [
       "       load_time                  load_type  load_weight dropoff_site\n",
       "95963       2014  RECYCLING - SINGLE STREAM       5760.0    TDS - MRF\n",
       "95964       2011  RECYCLING - SINGLE STREAM       5560.0    TDS - MRF\n",
       "95965       2012  RECYCLING - SINGLE STREAM      16500.0    TDS - MRF\n",
       "95966       2011  RECYCLING - SINGLE STREAM       2640.0    TDS - MRF\n",
       "95967       2011  RECYCLING - SINGLE STREAM       5480.0    TDS - MRF"
      ]
     },
     "execution_count": 62,
     "metadata": {},
     "output_type": "execute_result"
    }
   ],
   "source": [
    "site_interest_clean = site_interest[(site_interest['load_weight'] <= upper)&\n",
    "                      (site_interest['load_weight'] > 0)]\n",
    "\n",
    "site_interest_clean.head()"
   ]
  },
  {
   "cell_type": "markdown",
   "id": "ac9e823f",
   "metadata": {},
   "source": [
    "### Peresentase outlier"
   ]
  },
  {
   "cell_type": "code",
   "execution_count": 63,
   "id": "e9625da2",
   "metadata": {},
   "outputs": [
    {
     "data": {
      "text/plain": [
       "0.5459222384662361"
      ]
     },
     "execution_count": 63,
     "metadata": {},
     "output_type": "execute_result"
    }
   ],
   "source": [
    "#MELIHAT PERSENTASE OUTLIER\n",
    "\n",
    "((site_interest.shape[0] - site_interest_clean.shape[0]) / site_interest.shape[0]) * 100"
   ]
  },
  {
   "cell_type": "markdown",
   "id": "8530fa35",
   "metadata": {},
   "source": [
    "`Hasil persetase dari perbedaan outlier ini hanya sebesar 0.54% yang mana berarti tidak signifikan dengan asumsi dikatakan signifikan jika persentase perbedaannya >50%`"
   ]
  },
  {
   "cell_type": "markdown",
   "id": "72892cf7",
   "metadata": {},
   "source": [
    "### Central Tendency site TDS - MRF dengan Outlier"
   ]
  },
  {
   "cell_type": "code",
   "execution_count": 64,
   "id": "5ba13732",
   "metadata": {},
   "outputs": [
    {
     "data": {
      "text/html": [
       "<div>\n",
       "<style scoped>\n",
       "    .dataframe tbody tr th:only-of-type {\n",
       "        vertical-align: middle;\n",
       "    }\n",
       "\n",
       "    .dataframe tbody tr th {\n",
       "        vertical-align: top;\n",
       "    }\n",
       "\n",
       "    .dataframe thead tr th {\n",
       "        text-align: left;\n",
       "    }\n",
       "\n",
       "    .dataframe thead tr:last-of-type th {\n",
       "        text-align: right;\n",
       "    }\n",
       "</style>\n",
       "<table border=\"1\" class=\"dataframe\">\n",
       "  <thead>\n",
       "    <tr>\n",
       "      <th></th>\n",
       "      <th colspan=\"2\" halign=\"left\">load_weight</th>\n",
       "    </tr>\n",
       "    <tr>\n",
       "      <th></th>\n",
       "      <th>mean</th>\n",
       "      <th>median</th>\n",
       "    </tr>\n",
       "    <tr>\n",
       "      <th>dropoff_site</th>\n",
       "      <th></th>\n",
       "      <th></th>\n",
       "    </tr>\n",
       "  </thead>\n",
       "  <tbody>\n",
       "    <tr>\n",
       "      <th>TDS - MRF</th>\n",
       "      <td>10118.503747</td>\n",
       "      <td>10960.0</td>\n",
       "    </tr>\n",
       "  </tbody>\n",
       "</table>\n",
       "</div>"
      ],
      "text/plain": [
       "               load_weight         \n",
       "                      mean   median\n",
       "dropoff_site                       \n",
       "TDS - MRF     10118.503747  10960.0"
      ]
     },
     "execution_count": 64,
     "metadata": {},
     "output_type": "execute_result"
    }
   ],
   "source": [
    "site_interest.groupby('dropoff_site').agg({'load_weight':['mean', 'median']})"
   ]
  },
  {
   "cell_type": "code",
   "execution_count": 65,
   "id": "9e31a0ef",
   "metadata": {},
   "outputs": [
    {
     "data": {
      "text/html": [
       "<div>\n",
       "<style scoped>\n",
       "    .dataframe tbody tr th:only-of-type {\n",
       "        vertical-align: middle;\n",
       "    }\n",
       "\n",
       "    .dataframe tbody tr th {\n",
       "        vertical-align: top;\n",
       "    }\n",
       "\n",
       "    .dataframe thead th {\n",
       "        text-align: right;\n",
       "    }\n",
       "</style>\n",
       "<table border=\"1\" class=\"dataframe\">\n",
       "  <thead>\n",
       "    <tr style=\"text-align: right;\">\n",
       "      <th></th>\n",
       "      <th>load_weight</th>\n",
       "    </tr>\n",
       "    <tr>\n",
       "      <th>dropoff_site</th>\n",
       "      <th></th>\n",
       "    </tr>\n",
       "  </thead>\n",
       "  <tbody>\n",
       "    <tr>\n",
       "      <th>TDS - MRF</th>\n",
       "      <td>12300.0</td>\n",
       "    </tr>\n",
       "  </tbody>\n",
       "</table>\n",
       "</div>"
      ],
      "text/plain": [
       "              load_weight\n",
       "dropoff_site             \n",
       "TDS - MRF         12300.0"
      ]
     },
     "execution_count": 65,
     "metadata": {},
     "output_type": "execute_result"
    }
   ],
   "source": [
    "site_interest.groupby('dropoff_site').agg({'load_weight': pd.Series.mode})"
   ]
  },
  {
   "cell_type": "markdown",
   "id": "bb96441c",
   "metadata": {},
   "source": [
    "### Central Tendency site TDS - MRF tanpa Outlier"
   ]
  },
  {
   "cell_type": "code",
   "execution_count": 66,
   "id": "ec0cf725",
   "metadata": {},
   "outputs": [
    {
     "data": {
      "text/html": [
       "<div>\n",
       "<style scoped>\n",
       "    .dataframe tbody tr th:only-of-type {\n",
       "        vertical-align: middle;\n",
       "    }\n",
       "\n",
       "    .dataframe tbody tr th {\n",
       "        vertical-align: top;\n",
       "    }\n",
       "\n",
       "    .dataframe thead tr th {\n",
       "        text-align: left;\n",
       "    }\n",
       "\n",
       "    .dataframe thead tr:last-of-type th {\n",
       "        text-align: right;\n",
       "    }\n",
       "</style>\n",
       "<table border=\"1\" class=\"dataframe\">\n",
       "  <thead>\n",
       "    <tr>\n",
       "      <th></th>\n",
       "      <th colspan=\"2\" halign=\"left\">load_weight</th>\n",
       "    </tr>\n",
       "    <tr>\n",
       "      <th></th>\n",
       "      <th>mean</th>\n",
       "      <th>median</th>\n",
       "    </tr>\n",
       "    <tr>\n",
       "      <th>dropoff_site</th>\n",
       "      <th></th>\n",
       "      <th></th>\n",
       "    </tr>\n",
       "  </thead>\n",
       "  <tbody>\n",
       "    <tr>\n",
       "      <th>TDS - MRF</th>\n",
       "      <td>10044.664173</td>\n",
       "      <td>10940.0</td>\n",
       "    </tr>\n",
       "  </tbody>\n",
       "</table>\n",
       "</div>"
      ],
      "text/plain": [
       "               load_weight         \n",
       "                      mean   median\n",
       "dropoff_site                       \n",
       "TDS - MRF     10044.664173  10940.0"
      ]
     },
     "execution_count": 66,
     "metadata": {},
     "output_type": "execute_result"
    }
   ],
   "source": [
    "site_interest_clean.groupby('dropoff_site').agg({'load_weight':['mean', 'median']})"
   ]
  },
  {
   "cell_type": "code",
   "execution_count": 67,
   "id": "652d2766",
   "metadata": {},
   "outputs": [
    {
     "data": {
      "text/html": [
       "<div>\n",
       "<style scoped>\n",
       "    .dataframe tbody tr th:only-of-type {\n",
       "        vertical-align: middle;\n",
       "    }\n",
       "\n",
       "    .dataframe tbody tr th {\n",
       "        vertical-align: top;\n",
       "    }\n",
       "\n",
       "    .dataframe thead th {\n",
       "        text-align: right;\n",
       "    }\n",
       "</style>\n",
       "<table border=\"1\" class=\"dataframe\">\n",
       "  <thead>\n",
       "    <tr style=\"text-align: right;\">\n",
       "      <th></th>\n",
       "      <th>load_weight</th>\n",
       "    </tr>\n",
       "    <tr>\n",
       "      <th>dropoff_site</th>\n",
       "      <th></th>\n",
       "    </tr>\n",
       "  </thead>\n",
       "  <tbody>\n",
       "    <tr>\n",
       "      <th>TDS - MRF</th>\n",
       "      <td>12300.0</td>\n",
       "    </tr>\n",
       "  </tbody>\n",
       "</table>\n",
       "</div>"
      ],
      "text/plain": [
       "              load_weight\n",
       "dropoff_site             \n",
       "TDS - MRF         12300.0"
      ]
     },
     "execution_count": 67,
     "metadata": {},
     "output_type": "execute_result"
    }
   ],
   "source": [
    "site_interest_clean.groupby('dropoff_site').agg({'load_weight': pd.Series.mode})"
   ]
  },
  {
   "cell_type": "markdown",
   "id": "2dbbfdd4",
   "metadata": {},
   "source": [
    "`Bisa dilihat perbedan yang didapatkan sebesar:`\n",
    "\n",
    "**Dengan outlier**<br>\n",
    "mean: 10118.503747 <Br>\n",
    "median: 10960.0 <Br>\n",
    "modus: 12300.0\n",
    "\n",
    "**Tanpa Outlier** <br>\n",
    "mean: 10044.664173 <Br>\n",
    "median: 10940.0 <br>\n",
    "modus: 12300.0\n",
    "    \n",
    "`Perbandingan hasil 'Central Tendency' terhadap site 'TDS - MRF' ketika masih terdapat outlier dengan yang tidak dapat dikatakan tidak ada perbedaan yang signifikan dari jumlah mean dan rata-ratanya. Dan juga, nilai modus yang di dapatkan ketika masih terdapat outlier dan yang tidak terdapat outlier ternyata sama.`"
   ]
  },
  {
   "cell_type": "markdown",
   "id": "aeb6d277",
   "metadata": {},
   "source": [
    "## 6. Range, Variance, and Standard Deviation\n",
    "\n",
    "Gunakan site yang telah kamu pilih untuk dihitung range, variance, dan standar deviasi untuk data load_weight. Berikan insight dari hasil perhitunganmu kepada pemerintah kota (Pastikan data yang digunakan adalah data yang sudah dibersihkan dari outlier)."
   ]
  },
  {
   "cell_type": "markdown",
   "id": "c615f68c",
   "metadata": {},
   "source": [
    "### Range"
   ]
  },
  {
   "cell_type": "code",
   "execution_count": 68,
   "id": "e8d915f0",
   "metadata": {},
   "outputs": [
    {
     "data": {
      "text/plain": [
       "22180.0"
      ]
     },
     "execution_count": 68,
     "metadata": {},
     "output_type": "execute_result"
    }
   ],
   "source": [
    "site_interest_clean.load_weight.max() - site_interest_clean.load_weight.min()"
   ]
  },
  {
   "cell_type": "markdown",
   "id": "65bc69b9",
   "metadata": {},
   "source": [
    "`Di dapatkan nilai range dari load_weight sebesar 22180.0 pada site TDS - MRF`"
   ]
  },
  {
   "cell_type": "markdown",
   "id": "df05997b",
   "metadata": {},
   "source": [
    "### Variance"
   ]
  },
  {
   "cell_type": "code",
   "execution_count": 69,
   "id": "fa5d9f40",
   "metadata": {},
   "outputs": [
    {
     "data": {
      "text/plain": [
       "18342021.89786147"
      ]
     },
     "execution_count": 69,
     "metadata": {},
     "output_type": "execute_result"
    }
   ],
   "source": [
    "site_interest_clean.load_weight.var()"
   ]
  },
  {
   "cell_type": "markdown",
   "id": "8c0476d4",
   "metadata": {},
   "source": [
    "`Di dapatkan nilai variance dari load_weight sebesar 18342021.89786147 pada site TDS - MRF`"
   ]
  },
  {
   "cell_type": "markdown",
   "id": "7f121dcf",
   "metadata": {},
   "source": [
    "### standar deviasi"
   ]
  },
  {
   "cell_type": "code",
   "execution_count": 70,
   "id": "0faedd04",
   "metadata": {},
   "outputs": [
    {
     "data": {
      "text/plain": [
       "4282.7586784526475"
      ]
     },
     "execution_count": 70,
     "metadata": {},
     "output_type": "execute_result"
    }
   ],
   "source": [
    "site_interest_clean.load_weight.std()"
   ]
  },
  {
   "cell_type": "markdown",
   "id": "47bbea4c",
   "metadata": {},
   "source": [
    "`Di dapatkan nilai standar deviasi dari load_weight sebesar 4282.758 pada site TDS - MRF`"
   ]
  },
  {
   "cell_type": "markdown",
   "id": "b1530ac8",
   "metadata": {},
   "source": [
    "## 7. Suggestion load weight capacity for new site"
   ]
  },
  {
   "cell_type": "code",
   "execution_count": 71,
   "id": "0ddab274",
   "metadata": {},
   "outputs": [
    {
     "data": {
      "text/plain": [
       "(1650.6114090287538, 18438.71693751585)"
      ]
     },
     "execution_count": 71,
     "metadata": {},
     "output_type": "execute_result"
    }
   ],
   "source": [
    "conf_inf = stats.norm.interval(0.95, site_interest_clean['load_weight'].mean(), site_interest_clean['load_weight'].std())\n",
    "conf_inf"
   ]
  },
  {
   "cell_type": "markdown",
   "id": "e91277d8",
   "metadata": {},
   "source": [
    "`Dari hasil perhitungan cofidence interval berdasarkan site 'TDS - MRF' yang memiliki rata-rata load_weight paling tinggi, maka jika pemerintah kota Austin ingin menambah site baru, maka setidaknya pemerintah harus menyediakan kapasitas penampungan sampah sekitar 1650.611 sampai 18438.716.`"
   ]
  },
  {
   "cell_type": "markdown",
   "id": "d89e1697",
   "metadata": {},
   "source": [
    "## 8. Hypothesis testing\n",
    "### T-test One sample Two tail\n",
    "- H0 = tidak terdapat perbedaan rata-rata load_weight pada site `TDS - MRF` antara data yang belum dihandle outliernya (site_interest) dengan rata-rata dari data yang sudah dihandle (site_interest_clean) <br>\n",
    "\n",
    "- H1 = terdapat perbedaan rata-rata load_weight pada site `TDS - MRF` antara data yang belum dihandle outliernya (site_interest) dengan rata-rata dari data yang sudah dihandle (site_interest_clean) \n",
    "\n",
    "**Notasi Matematis** <br>\n",
    "- H0 : **rerata `site_interest_clean`= 10118.503**\n",
    "- H1 : **rerata `site_interest_clean` != 10118.503**"
   ]
  },
  {
   "cell_type": "code",
   "execution_count": 72,
   "id": "ffceb428",
   "metadata": {},
   "outputs": [
    {
     "name": "stdout",
     "output_type": "stream",
     "text": [
      "6.427592099528713e-05\n",
      "-3.996852264904479\n"
     ]
    }
   ],
   "source": [
    "stat, p_value = ttest_1samp(site_interest_clean['load_weight'], 10118.503)\n",
    "print(p_value)\n",
    "print(stat)"
   ]
  },
  {
   "cell_type": "code",
   "execution_count": 73,
   "id": "ce1571f0",
   "metadata": {},
   "outputs": [
    {
     "name": "stderr",
     "output_type": "stream",
     "text": [
      "C:\\Anaconda\\lib\\site-packages\\seaborn\\distributions.py:2619: FutureWarning: `distplot` is a deprecated function and will be removed in a future version. Please adapt your code to use either `displot` (a figure-level function with similar flexibility) or `histplot` (an axes-level function for histograms).\n",
      "  warnings.warn(msg, FutureWarning)\n"
     ]
    },
    {
     "data": {
      "text/plain": [
       "<matplotlib.legend.Legend at 0x1da0d21f460>"
      ]
     },
     "execution_count": 73,
     "metadata": {},
     "output_type": "execute_result"
    },
    {
     "data": {
      "image/png": "[encoded data removed]",
      "text/plain": [
       "<Figure size 1152x360 with 1 Axes>"
      ]
     },
     "metadata": {
      "needs_background": "light"
     },
     "output_type": "display_data"
    }
   ],
   "source": [
    "outlier_removed_pop = np.random.normal(site_interest_clean['load_weight'].mean(), site_interest_clean['load_weight'].std(), 10000)\n",
    "\n",
    "ci = stats.norm.interval(0.95, site_interest_clean['load_weight'].mean(), site_interest_clean['load_weight'].std())\n",
    "\n",
    "plt.figure(figsize=(16,5))\n",
    "sns.distplot(outlier_removed_pop, label='Amount with Outlier Removed (Population)', color='blue')\n",
    "plt.axvline(site_interest_clean['load_weight'].mean(), color='red', linewidth=2, label='Amount with Outlier Removed (Mean)')\n",
    "\n",
    "plt.axvline(ci[1], color='green', linestyle='dashed', linewidth=2, label='confidence threshold of 95%')\n",
    "plt.axvline(ci[0], color='green', linestyle='dashed', linewidth=2, label='confidence threshold of 95%')\n",
    "\n",
    "plt.axvline(outlier_removed_pop.mean() + stat*outlier_removed_pop.std(), color='black', linestyle='dashed', linewidth=2, label = 'Alternative Hypothesis')\n",
    "plt.axvline(outlier_removed_pop.mean() - stat*outlier_removed_pop.std(), color='black', linestyle='dashed', linewidth=2)\n",
    "plt.legend()"
   ]
  },
  {
   "cell_type": "markdown",
   "id": "6e060d12",
   "metadata": {},
   "source": [
    "`Berdasarkan hasil di atas, maka tidak benar apa bila pemerintah kota Austin menyebutkan tidak ada perbedaan rata-rata sampah antara data yang masih terdapat outlier pada site 'TDS - MRF' dengan yang tidak.`"
   ]
  },
  {
   "cell_type": "markdown",
   "id": "dbaef1a3",
   "metadata": {},
   "source": [
    "## 9. Connecting Line"
   ]
  },
  {
   "cell_type": "markdown",
   "id": "77554f30",
   "metadata": {},
   "source": [
    "```\n",
    "Berdasarkan hasil analisa yang dilakukan, maka dapat disimpulkan bahwa pemerintah kota Austin harus memperhatikan kapasitas penampungan yang terletak di TDS - MRF karena rata-rata sampah yang ada di TDS - MRF sangat banyak dibandingkan dengan tempat lain. Dan juga, permerintah kota Austin harus menambahkan kapasitas tempat pembuangan sampah di sekitar TDS - MRF karena terdapat jumlah sampah yang banyak dan tidak terduga dari yang dikira sebelumnya.\n",
    "```"
   ]
  },
  {
   "cell_type": "markdown",
   "id": "b23373e8",
   "metadata": {},
   "source": [
    "_____"
   ]
  },
  {
   "cell_type": "markdown",
   "id": "64158ab3",
   "metadata": {},
   "source": [
    "# Summary\n",
    "```\n",
    "1. Statistik Deskriptif \n",
    "Statistik deskriptif itu berhubungan dengan deskripsi data. Maksudnya, data yang ada itu              menggambarkan suatu informasi. Misalnya, data seperti mean, modus, median, deviasi standar, dan variasi data lainnya yang dapat divisualisasi dalam bentuk grafik, sehingga menjadi lebih mudah untuk dipahami\n",
    "\n",
    "Statistik Inferensial \n",
    "Statistik inferensial itu biasanya digunakan untuk menguji suatu hipotesis. Statistika Inferensial digunakan untuk pendugaan parameter, membuat hipotesis, dan menguji hipotesis tersebut hingga menjadi kesimpulan yang umum. Metode ini bisa juga disebut sebagai statistika induktif karena pengambilan kesimpulan dari Statistika Inferensial hanya didasarkan pada data sampel saja untuk menyimpulkan suatu data populasi.\n",
    "\n",
    "\n",
    "2. Suatu distribusi dapat dikatakan normal jika: \n",
    "- Nilai frekuensi terbanyak terdapat di tengah, sedangkan nilai frekuensi terkecil (baik positif maupun negative) terdapat di ujung kiri dan kanan.\n",
    "    \n",
    "- Nilai mean, median, dan modus tidak terletak terlalu jauh.\n",
    "\n",
    "Sehingga metrik yang dapat digunakan untuk menyimpulkan data terdistribusi normal atau tidak adalah mean, median, dan modus.\n",
    "\n",
    "\n",
    "3. Pada kasus ini, saya menggunakan teknik `Tukey` dengan IQR untuk menghandle outlier. Hal ini disebabkan karena datanya tidak terdistribusi normal.\n",
    "\n",
    "\n",
    "4. Konsep dari `Central Tendency` adalah bagaimana rata-rata distribusi suatu sample itu dapat dekat terahadap suatu distribusi populasi sehingga dapat menggambarkan nilai dari suatu populasi tersebut.\n",
    "\n",
    "\n",
    "5. Jenis hipotesis yang saya gunakan pada kasus ini adalah `One Sample Two Tailed.` Hal ini karena pada kasus ini saya ingin membandingkan satu sample terhadap populasinya, yakni `load_weight` ketika tidak terdapat outlier dan ketika `load_weight` terdapat outlier.\n",
    "```"
   ]
  },
  {
   "cell_type": "code",
   "execution_count": null,
   "id": "c4da41ac",
   "metadata": {},
   "outputs": [],
   "source": []
  }
 ],
 "metadata": {
  "kernelspec": {
   "display_name": "Python 3 (ipykernel)",
   "language": "python",
   "name": "python3"
  },
  "language_info": {
   "codemirror_mode": {
    "name": "ipython",
    "version": 3
   },
   "file_extension": ".py",
   "mimetype": "text/x-python",
   "name": "python",
   "nbconvert_exporter": "python",
   "pygments_lexer": "ipython3",
   "version": "3.9.7"
  },
  "varInspector": {
   "cols": {
    "lenName": 16,
    "lenType": 16,
    "lenVar": 40
   },
   "kernels_config": {
    "python": {
     "delete_cmd_postfix": "",
     "delete_cmd_prefix": "del ",
     "library": "var_list.py",
     "varRefreshCmd": "print(var_dic_list())"
    },
    "r": {
     "delete_cmd_postfix": ") ",
     "delete_cmd_prefix": "rm(",
     "library": "var_list.r",
     "varRefreshCmd": "cat(var_dic_list()) "
    }
   },
   "types_to_exclude": [
    "module",
    "function",
    "builtin_function_or_method",
    "instance",
    "_Feature"
   ],
   "window_display": false
  }
 },
 "nbformat": 4,
 "nbformat_minor": 5
}
